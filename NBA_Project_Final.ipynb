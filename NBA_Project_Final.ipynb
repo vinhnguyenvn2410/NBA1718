{
 "cells": [
  {
   "cell_type": "markdown",
   "metadata": {},
   "source": [
    "# NBA Project"
   ]
  },
  {
   "cell_type": "markdown",
   "metadata": {},
   "source": [
    "We have 1193 csv files including every single play of the 2017-2018 NBA season. The goal was to measure and predict how well would NBA teams perform in the other 120  games within that season.\n",
    "Our conclusion: Luke Walton might have to go..."
   ]
  },
  {
   "cell_type": "markdown",
   "metadata": {},
   "source": [
    "Load libraries"
   ]
  },
  {
   "cell_type": "code",
   "execution_count": 1,
   "metadata": {},
   "outputs": [],
   "source": [
    "import os\n",
    "import pandas as pd \n",
    "import numpy as np \n",
    "import re\n",
    "np.warnings.filterwarnings('ignore')\n",
    "from datetime import datetime"
   ]
  },
  {
   "cell_type": "markdown",
   "metadata": {},
   "source": [
    "We found a way to loop through all of the files in the directory"
   ]
  },
  {
   "cell_type": "code",
   "execution_count": 51,
   "metadata": {},
   "outputs": [
    {
     "data": {
      "text/plain": [
       "1193"
      ]
     },
     "execution_count": 51,
     "metadata": {},
     "output_type": "execute_result"
    }
   ],
   "source": [
    "Train_Files = []\n",
    "for file in os.listdir(\"~/TRAIN/\"):\n",
    "    Train_Files.append(file)\n",
    "    \n",
    "#Train_Files\n",
    "all_teams = []\n",
    "for file_name in Train_Files:\n",
    "    if file_name.endswith('.csv'):\n",
    "        all_teams.append(file_name[24:27])\n",
    "        all_teams.append(file_name[28:31])\n",
    "all_teams = list(set(all_teams))\n",
    "team_dict = {all_teams[team]: [] for team in range(len(all_teams))}\n",
    "for team in team_dict:\n",
    "    for file in Train_Files:\n",
    "        if team in file:\n",
    "            team_dict.get(team).append(file)\n",
    "len(Train_Files)"
   ]
  },
  {
   "cell_type": "markdown",
   "metadata": {},
   "source": [
    "Now, we have the lineups separate for the home and away team, but we dont have an indicator in the dataset\n",
    "for what is the home and away team. Therefore, we have to create separate datasets for \n",
    "home / away teams. "
   ]
  },
  {
   "cell_type": "code",
   "execution_count": 3,
   "metadata": {},
   "outputs": [
    {
     "data": {
      "text/html": [
       "<div>\n",
       "<style scoped>\n",
       "    .dataframe tbody tr th:only-of-type {\n",
       "        vertical-align: middle;\n",
       "    }\n",
       "\n",
       "    .dataframe tbody tr th {\n",
       "        vertical-align: top;\n",
       "    }\n",
       "\n",
       "    .dataframe thead th {\n",
       "        text-align: right;\n",
       "    }\n",
       "</style>\n",
       "<table border=\"1\" class=\"dataframe\">\n",
       "  <thead>\n",
       "    <tr style=\"text-align: right;\">\n",
       "      <th></th>\n",
       "      <th>Lineup</th>\n",
       "      <th>Conceded</th>\n",
       "      <th>Scored</th>\n",
       "      <th>PlusMinus</th>\n",
       "      <th>Team</th>\n",
       "    </tr>\n",
       "  </thead>\n",
       "  <tbody>\n",
       "    <tr>\n",
       "      <th>0</th>\n",
       "      <td>Austin Rivers, Avery Bradley, Danilo Gallinari...</td>\n",
       "      <td>0.0</td>\n",
       "      <td>2.0</td>\n",
       "      <td>2.0</td>\n",
       "      <td>LAC</td>\n",
       "    </tr>\n",
       "    <tr>\n",
       "      <th>1</th>\n",
       "      <td>Austin Rivers, Avery Bradley, Danilo Gallinari...</td>\n",
       "      <td>111.0</td>\n",
       "      <td>124.0</td>\n",
       "      <td>13.0</td>\n",
       "      <td>LAC</td>\n",
       "    </tr>\n",
       "    <tr>\n",
       "      <th>2</th>\n",
       "      <td>Austin Rivers, Avery Bradley, Danilo Gallinari...</td>\n",
       "      <td>33.0</td>\n",
       "      <td>25.0</td>\n",
       "      <td>-8.0</td>\n",
       "      <td>LAC</td>\n",
       "    </tr>\n",
       "    <tr>\n",
       "      <th>3</th>\n",
       "      <td>Austin Rivers, Avery Bradley, Danilo Gallinari...</td>\n",
       "      <td>NaN</td>\n",
       "      <td>0.0</td>\n",
       "      <td>NaN</td>\n",
       "      <td>LAC</td>\n",
       "    </tr>\n",
       "    <tr>\n",
       "      <th>4</th>\n",
       "      <td>Austin Rivers, Avery Bradley, DeAndre Jordan, ...</td>\n",
       "      <td>12.0</td>\n",
       "      <td>18.0</td>\n",
       "      <td>6.0</td>\n",
       "      <td>LAC</td>\n",
       "    </tr>\n",
       "  </tbody>\n",
       "</table>\n",
       "</div>"
      ],
      "text/plain": [
       "                                              Lineup  Conceded  Scored  \\\n",
       "0  Austin Rivers, Avery Bradley, Danilo Gallinari...       0.0     2.0   \n",
       "1  Austin Rivers, Avery Bradley, Danilo Gallinari...     111.0   124.0   \n",
       "2  Austin Rivers, Avery Bradley, Danilo Gallinari...      33.0    25.0   \n",
       "3  Austin Rivers, Avery Bradley, Danilo Gallinari...       NaN     0.0   \n",
       "4  Austin Rivers, Avery Bradley, DeAndre Jordan, ...      12.0    18.0   \n",
       "\n",
       "   PlusMinus Team  \n",
       "0        2.0  LAC  \n",
       "1       13.0  LAC  \n",
       "2       -8.0  LAC  \n",
       "3        NaN  LAC  \n",
       "4        6.0  LAC  "
      ]
     },
     "execution_count": 3,
     "metadata": {},
     "output_type": "execute_result"
    }
   ],
   "source": [
    "Directory = \"~/TRAIN/\"\n",
    "\n",
    "FinalData = None\n",
    "\n",
    "for team in team_dict:\n",
    "    \n",
    "    # Create an Empty Data Frame so that we can merge # \n",
    "\n",
    "    TeamData = pd.DataFrame(columns = ['Lineup', 'ScoredConceded', 'points'])\n",
    "\n",
    "    for file in team_dict.get(team):\n",
    "\n",
    "        data = pd.read_csv(Directory + file)\n",
    "\n",
    "        if (\"@\" + team) in file: \n",
    "            HomeAway = \"Home\"\n",
    "\n",
    "            temp_data = data[['h1', 'h2', 'h3', 'h4', 'h5', 'team', 'points']]\n",
    "\n",
    "            temp_data.columns = ['p1', 'p2', 'p3', 'p4', 'p5', 'team', 'points']\n",
    "\n",
    "            temp_data['ScoredConceded'] = np.where(temp_data['team'] == team, \"Scored\", \"Conceded\")    \n",
    "\n",
    "            temp_data = temp_data.loc[temp_data['points'].notnull()]\n",
    "\n",
    "            names = temp_data[['p1', 'p2', 'p3', 'p4', 'p5']].values.tolist()\n",
    "\n",
    "            SortedLines = []\n",
    "\n",
    "            for line in names: \n",
    "\n",
    "                SortedLines.append( sorted(line) )\n",
    "\n",
    "            SortedLines = pd.DataFrame(SortedLines, columns = ['p1', 'p2', 'p3', 'p4', 'p5'])\n",
    "\n",
    "            SortedLines['Lineup'] = SortedLines[['p1', 'p2', 'p3', 'p4', 'p5']].apply(lambda x: ', '.join(x), axis=1)\n",
    "            \n",
    "\n",
    "            SortedLines.reset_index(inplace = True)\n",
    "            temp_data.reset_index(inplace = True)\n",
    "\n",
    "            temp_data['Lineup'] = SortedLines['Lineup']\n",
    "\n",
    "            temp_data = temp_data[['Lineup', 'ScoredConceded', 'points']]\n",
    "\n",
    "            # Combine Data Files #\n",
    "\n",
    "            TeamData = pd.concat([TeamData, temp_data])\n",
    "\n",
    "        else:\n",
    "            HomeAway = \"Away\"\n",
    "\n",
    "            temp_data = data[['a1', 'a2', 'a3', 'a4', 'a5', 'team', 'points']]\n",
    "\n",
    "            temp_data.columns = ['p1', 'p2', 'p3', 'p4', 'p5', 'team', 'points']\n",
    "\n",
    "            temp_data['ScoredConceded'] = np.where(temp_data['team'] == team, \"Scored\", \"Conceded\")    \n",
    "\n",
    "            temp_data = temp_data.loc[temp_data['points'].notnull()]\n",
    "\n",
    "            names = temp_data[['p1', 'p2', 'p3', 'p4', 'p5']].values.tolist()\n",
    "\n",
    "            SortedLines = []\n",
    "\n",
    "            for line in names: \n",
    "\n",
    "                SortedLines.append( sorted(line) )\n",
    "\n",
    "            SortedLines = pd.DataFrame(SortedLines, columns = ['p1', 'p2', 'p3', 'p4', 'p5'])\n",
    "\n",
    "            SortedLines['Lineup'] = SortedLines[['p1', 'p2', 'p3', 'p4', 'p5']].apply(lambda x: ', '.join(x), axis=1)\n",
    "            \n",
    "\n",
    "            SortedLines.reset_index(inplace = True)\n",
    "            temp_data.reset_index(inplace = True)\n",
    "\n",
    "            temp_data['Lineup'] = SortedLines['Lineup']\n",
    "\n",
    "            temp_data = temp_data[['Lineup', 'ScoredConceded', 'points']]\n",
    "\n",
    "            TeamData = pd.concat([TeamData, temp_data])\n",
    "    # Collapse the data (pivot) using a pivot table to calculate the number of points scored / conceded #\n",
    "\n",
    "    TeamData2 = pd.pivot_table(data = TeamData, index = ['Lineup','ScoredConceded'], values = 'points', aggfunc = [np.sum])\n",
    "\n",
    "    TeamData2 = TeamData2.unstack().reset_index()\n",
    "\n",
    "    # This command just resets the header, so that it is simpler to work with the column names#\n",
    "\n",
    "    TeamData2.columns = TeamData2.columns.get_level_values(0)\n",
    "\n",
    "    # This defines new column names #\n",
    "\n",
    "    TeamData2.columns = ['Lineup', 'Conceded', 'Scored']\n",
    "\n",
    "    # This calculates the +/-\n",
    "\n",
    "    TeamData2['PlusMinus'] = TeamData2['Scored'] - TeamData2['Conceded']\n",
    "\n",
    "    TeamData2['Team'] = team\n",
    "\n",
    "    TeamData2.sort_values('PlusMinus', ascending = True)\n",
    "\n",
    "    TeamData2.head()\n",
    "    \n",
    "    FinalData = pd.concat([FinalData, TeamData2])\n",
    "\n",
    "FinalData.head()"
   ]
  },
  {
   "cell_type": "markdown",
   "metadata": {},
   "source": [
    "Quick check for the dimension of the dataframe"
   ]
  },
  {
   "cell_type": "code",
   "execution_count": 4,
   "metadata": {},
   "outputs": [
    {
     "data": {
      "text/plain": [
       "(13540, 5)"
      ]
     },
     "execution_count": 4,
     "metadata": {},
     "output_type": "execute_result"
    }
   ],
   "source": [
    "FinalData.shape"
   ]
  },
  {
   "cell_type": "markdown",
   "metadata": {},
   "source": [
    "We looked at the datafile intensively to find out: Does it make sense to fill the null fields in Scored and Conceded with 0s.\n",
    "We made sure that the null fields didn't correspond with a change in game points to make sure that when we fill 0s, the result of our calculation wouldn't be affected."
   ]
  },
  {
   "cell_type": "code",
   "execution_count": 5,
   "metadata": {},
   "outputs": [],
   "source": [
    "FinalData['Scored']=FinalData['Scored'].fillna(0)\n",
    "FinalData['Conceded']=FinalData['Conceded'].fillna(0)\n",
    "FinalData['PlusMinus'] = FinalData['Scored']-FinalData['Conceded']"
   ]
  },
  {
   "cell_type": "markdown",
   "metadata": {},
   "source": [
    "Again, a quick look at the dataframe to make sure everything looks good.\n",
    "We also constantly use .describe() to make sure our parameters aren't ridiculous."
   ]
  },
  {
   "cell_type": "code",
   "execution_count": 6,
   "metadata": {
    "scrolled": true
   },
   "outputs": [
    {
     "data": {
      "text/html": [
       "<div>\n",
       "<style scoped>\n",
       "    .dataframe tbody tr th:only-of-type {\n",
       "        vertical-align: middle;\n",
       "    }\n",
       "\n",
       "    .dataframe tbody tr th {\n",
       "        vertical-align: top;\n",
       "    }\n",
       "\n",
       "    .dataframe thead th {\n",
       "        text-align: right;\n",
       "    }\n",
       "</style>\n",
       "<table border=\"1\" class=\"dataframe\">\n",
       "  <thead>\n",
       "    <tr style=\"text-align: right;\">\n",
       "      <th></th>\n",
       "      <th>Lineup</th>\n",
       "      <th>Conceded</th>\n",
       "      <th>Scored</th>\n",
       "      <th>PlusMinus</th>\n",
       "      <th>Team</th>\n",
       "    </tr>\n",
       "  </thead>\n",
       "  <tbody>\n",
       "    <tr>\n",
       "      <th>0</th>\n",
       "      <td>Austin Rivers, Avery Bradley, Danilo Gallinari...</td>\n",
       "      <td>0.0</td>\n",
       "      <td>2.0</td>\n",
       "      <td>2.0</td>\n",
       "      <td>LAC</td>\n",
       "    </tr>\n",
       "    <tr>\n",
       "      <th>1</th>\n",
       "      <td>Austin Rivers, Avery Bradley, Danilo Gallinari...</td>\n",
       "      <td>111.0</td>\n",
       "      <td>124.0</td>\n",
       "      <td>13.0</td>\n",
       "      <td>LAC</td>\n",
       "    </tr>\n",
       "    <tr>\n",
       "      <th>2</th>\n",
       "      <td>Austin Rivers, Avery Bradley, Danilo Gallinari...</td>\n",
       "      <td>33.0</td>\n",
       "      <td>25.0</td>\n",
       "      <td>-8.0</td>\n",
       "      <td>LAC</td>\n",
       "    </tr>\n",
       "    <tr>\n",
       "      <th>3</th>\n",
       "      <td>Austin Rivers, Avery Bradley, Danilo Gallinari...</td>\n",
       "      <td>0.0</td>\n",
       "      <td>0.0</td>\n",
       "      <td>0.0</td>\n",
       "      <td>LAC</td>\n",
       "    </tr>\n",
       "    <tr>\n",
       "      <th>4</th>\n",
       "      <td>Austin Rivers, Avery Bradley, DeAndre Jordan, ...</td>\n",
       "      <td>12.0</td>\n",
       "      <td>18.0</td>\n",
       "      <td>6.0</td>\n",
       "      <td>LAC</td>\n",
       "    </tr>\n",
       "  </tbody>\n",
       "</table>\n",
       "</div>"
      ],
      "text/plain": [
       "                                              Lineup  Conceded  Scored  \\\n",
       "0  Austin Rivers, Avery Bradley, Danilo Gallinari...       0.0     2.0   \n",
       "1  Austin Rivers, Avery Bradley, Danilo Gallinari...     111.0   124.0   \n",
       "2  Austin Rivers, Avery Bradley, Danilo Gallinari...      33.0    25.0   \n",
       "3  Austin Rivers, Avery Bradley, Danilo Gallinari...       0.0     0.0   \n",
       "4  Austin Rivers, Avery Bradley, DeAndre Jordan, ...      12.0    18.0   \n",
       "\n",
       "   PlusMinus Team  \n",
       "0        2.0  LAC  \n",
       "1       13.0  LAC  \n",
       "2       -8.0  LAC  \n",
       "3        0.0  LAC  \n",
       "4        6.0  LAC  "
      ]
     },
     "execution_count": 6,
     "metadata": {},
     "output_type": "execute_result"
    }
   ],
   "source": [
    "FinalData.head()"
   ]
  },
  {
   "cell_type": "markdown",
   "metadata": {},
   "source": [
    "Here we made sure that our Lineup column isn't duplicated after our groupby function above."
   ]
  },
  {
   "cell_type": "code",
   "execution_count": 47,
   "metadata": {},
   "outputs": [
    {
     "data": {
      "text/plain": [
       "0"
      ]
     },
     "execution_count": 47,
     "metadata": {},
     "output_type": "execute_result"
    }
   ],
   "source": [
    "FinalData['Lineup'].duplicated().sum()"
   ]
  },
  {
   "cell_type": "code",
   "execution_count": 8,
   "metadata": {},
   "outputs": [],
   "source": [
    "#train_dataframe[['p1','p2','p3','p4','p5']] = train_dataframe['Lineup'].str.split(', ',expand=True)"
   ]
  },
  {
   "cell_type": "markdown",
   "metadata": {},
   "source": [
    "# Get Length"
   ]
  },
  {
   "cell_type": "markdown",
   "metadata": {},
   "source": [
    "After getting the plus/minus for each lineup in our ~ 1193 games. We wanted to know how many seconds did these line up play during the course of these games. We wanted to break down to the plus/minus per second level and then build our predictions from there."
   ]
  },
  {
   "cell_type": "code",
   "execution_count": 9,
   "metadata": {},
   "outputs": [
    {
     "data": {
      "text/html": [
       "<div>\n",
       "<style scoped>\n",
       "    .dataframe tbody tr th:only-of-type {\n",
       "        vertical-align: middle;\n",
       "    }\n",
       "\n",
       "    .dataframe tbody tr th {\n",
       "        vertical-align: top;\n",
       "    }\n",
       "\n",
       "    .dataframe thead th {\n",
       "        text-align: right;\n",
       "    }\n",
       "</style>\n",
       "<table border=\"1\" class=\"dataframe\">\n",
       "  <thead>\n",
       "    <tr style=\"text-align: right;\">\n",
       "      <th></th>\n",
       "      <th>Lineup</th>\n",
       "      <th>ScoredConceded</th>\n",
       "      <th>points</th>\n",
       "      <th>play_length</th>\n",
       "    </tr>\n",
       "  </thead>\n",
       "  <tbody>\n",
       "    <tr>\n",
       "      <th>0</th>\n",
       "      <td>Blake Griffin, Danilo Gallinari, DeAndre Jorda...</td>\n",
       "      <td>Conceded</td>\n",
       "      <td>NaN</td>\n",
       "      <td>0:00:00</td>\n",
       "    </tr>\n",
       "    <tr>\n",
       "      <th>1</th>\n",
       "      <td>Blake Griffin, Danilo Gallinari, DeAndre Jorda...</td>\n",
       "      <td>Scored</td>\n",
       "      <td>NaN</td>\n",
       "      <td>0:00:00</td>\n",
       "    </tr>\n",
       "    <tr>\n",
       "      <th>2</th>\n",
       "      <td>Blake Griffin, Danilo Gallinari, DeAndre Jorda...</td>\n",
       "      <td>Scored</td>\n",
       "      <td>0.0</td>\n",
       "      <td>0:00:20</td>\n",
       "    </tr>\n",
       "    <tr>\n",
       "      <th>3</th>\n",
       "      <td>Blake Griffin, Danilo Gallinari, DeAndre Jorda...</td>\n",
       "      <td>Conceded</td>\n",
       "      <td>NaN</td>\n",
       "      <td>0:00:03</td>\n",
       "    </tr>\n",
       "    <tr>\n",
       "      <th>4</th>\n",
       "      <td>Blake Griffin, Danilo Gallinari, DeAndre Jorda...</td>\n",
       "      <td>Conceded</td>\n",
       "      <td>0.0</td>\n",
       "      <td>0:00:19</td>\n",
       "    </tr>\n",
       "  </tbody>\n",
       "</table>\n",
       "</div>"
      ],
      "text/plain": [
       "                                              Lineup ScoredConceded  points  \\\n",
       "0  Blake Griffin, Danilo Gallinari, DeAndre Jorda...       Conceded     NaN   \n",
       "1  Blake Griffin, Danilo Gallinari, DeAndre Jorda...         Scored     NaN   \n",
       "2  Blake Griffin, Danilo Gallinari, DeAndre Jorda...         Scored     0.0   \n",
       "3  Blake Griffin, Danilo Gallinari, DeAndre Jorda...       Conceded     NaN   \n",
       "4  Blake Griffin, Danilo Gallinari, DeAndre Jorda...       Conceded     0.0   \n",
       "\n",
       "  play_length  \n",
       "0     0:00:00  \n",
       "1     0:00:00  \n",
       "2     0:00:20  \n",
       "3     0:00:03  \n",
       "4     0:00:19  "
      ]
     },
     "execution_count": 9,
     "metadata": {},
     "output_type": "execute_result"
    }
   ],
   "source": [
    "from datetime import datetime\n",
    "Directory = \"~/TRAIN/\"\n",
    "\n",
    "FinalData2 = None\n",
    "\n",
    "for team in team_dict:\n",
    "    \n",
    "    # Create an Empty Data Frame so that we can merge # \n",
    "\n",
    "    TeamData = pd.DataFrame(columns = ['Lineup', 'ScoredConceded', 'points','play_length'])\n",
    "\n",
    "    for file in team_dict.get(team):\n",
    "\n",
    "        data = pd.read_csv(Directory + file)\n",
    "\n",
    "        if (\"@\" + team) in file: \n",
    "            HomeAway = \"Home\"\n",
    "\n",
    "            temp_data = data[['h1', 'h2', 'h3', 'h4', 'h5', 'team', 'points','play_length']]\n",
    "\n",
    "            temp_data.columns = ['p1', 'p2', 'p3', 'p4', 'p5', 'team', 'points','play_length']\n",
    "\n",
    "            temp_data['ScoredConceded'] = np.where(temp_data['team'] == team, \"Scored\", \"Conceded\")    \n",
    "\n",
    "            temp_data = temp_data.loc[temp_data['play_length'].notnull()]\n",
    "\n",
    "            names = temp_data[['p1', 'p2', 'p3', 'p4', 'p5']].values.tolist()\n",
    "\n",
    "            SortedLines = []\n",
    "\n",
    "            for line in names: \n",
    "\n",
    "                SortedLines.append( sorted(line) )\n",
    "\n",
    "            SortedLines = pd.DataFrame(SortedLines, columns = ['p1', 'p2', 'p3', 'p4', 'p5'])\n",
    "\n",
    "            SortedLines['Lineup'] = SortedLines[['p1', 'p2', 'p3', 'p4', 'p5']].apply(lambda x: ', '.join(x), axis=1)\n",
    "            ## NEW COMMAND ### -- DIFFERENT FROM EARLIER FILE ##\n",
    "\n",
    "            SortedLines.reset_index(inplace = True)\n",
    "            temp_data.reset_index(inplace = True)\n",
    "\n",
    "            temp_data['Lineup'] = SortedLines['Lineup']\n",
    "\n",
    "            temp_data = temp_data[['Lineup', 'ScoredConceded', 'points','play_length']]\n",
    "            \n",
    "\n",
    "            # Combine Data Files #\n",
    "\n",
    "            TeamData = pd.concat([TeamData, temp_data])\n",
    "\n",
    "\n",
    "        else:\n",
    "            HomeAway = \"Away\"\n",
    "\n",
    "            temp_data = data[['a1', 'a2', 'a3', 'a4', 'a5', 'team', 'points','play_length']]\n",
    "\n",
    "            temp_data.columns = ['p1', 'p2', 'p3', 'p4', 'p5', 'team', 'points','play_length']\n",
    "\n",
    "            temp_data['ScoredConceded'] = np.where(temp_data['team'] == team, \"Scored\", \"Conceded\")    \n",
    "\n",
    "            temp_data = temp_data.loc[temp_data['play_length'].notnull()]\n",
    "\n",
    "            names = temp_data[['p1', 'p2', 'p3', 'p4', 'p5']].values.tolist()\n",
    "\n",
    "            SortedLines = []\n",
    "\n",
    "            for line in names: \n",
    "\n",
    "                SortedLines.append( sorted(line) )\n",
    "\n",
    "            SortedLines = pd.DataFrame(SortedLines, columns = ['p1', 'p2', 'p3', 'p4', 'p5'])\n",
    "\n",
    "            SortedLines['Lineup'] = SortedLines[['p1', 'p2', 'p3', 'p4', 'p5']].apply(lambda x: ', '.join(x), axis=1)\n",
    "            ## NEW COMMAND ### -- DIFFERENT FROM EARLIER FILE ##\n",
    "\n",
    "            SortedLines.reset_index(inplace = True)\n",
    "            temp_data.reset_index(inplace = True)\n",
    "\n",
    "            temp_data['Lineup'] = SortedLines['Lineup']\n",
    "\n",
    "            temp_data = temp_data[['Lineup', 'ScoredConceded', 'points','play_length']]\n",
    "            \n",
    "            \n",
    "            TeamData = pd.concat([TeamData, temp_data])\n",
    "            \n",
    "    \n",
    "    FinalData2 = pd.concat([FinalData2, TeamData])\n",
    "\n",
    "FinalData2.head()"
   ]
  },
  {
   "cell_type": "markdown",
   "metadata": {},
   "source": [
    "Again, checking the dimension of the dataframe"
   ]
  },
  {
   "cell_type": "code",
   "execution_count": 10,
   "metadata": {
    "scrolled": true
   },
   "outputs": [
    {
     "data": {
      "text/plain": [
       "(1091150, 4)"
      ]
     },
     "execution_count": 10,
     "metadata": {},
     "output_type": "execute_result"
    }
   ],
   "source": [
    "FinalData2.shape"
   ]
  },
  {
   "cell_type": "markdown",
   "metadata": {},
   "source": [
    "Here we want to drop the points column to make sure when we merge the dataframes together, we won't get duplicated column for points."
   ]
  },
  {
   "cell_type": "code",
   "execution_count": 11,
   "metadata": {},
   "outputs": [],
   "source": [
    "dfdata2 = FinalData2.drop(columns=['points'])"
   ]
  },
  {
   "cell_type": "markdown",
   "metadata": {},
   "source": [
    "We check for weird play_length/time values in the dataset. Apparently, some of the time was recorded weirdly to reflect clock resets. We went into the data to make sure that this was a valid assumption before proceeding with cleaning the '-' sign. There wasn't many of these but it affected the datetime conversion."
   ]
  },
  {
   "cell_type": "code",
   "execution_count": 12,
   "metadata": {
    "scrolled": true
   },
   "outputs": [
    {
     "data": {
      "text/plain": [
       "array(['00:-12:00', '00:-5:00', '00:-11:34', '00:-11:13', '00:-11:14'],\n",
       "      dtype=object)"
      ]
     },
     "execution_count": 12,
     "metadata": {},
     "output_type": "execute_result"
    }
   ],
   "source": [
    "dafuq= dfdata2.loc[dfdata2.play_length.str.contains('-')]\n",
    "dafuq['play_length'].unique()"
   ]
  },
  {
   "cell_type": "code",
   "execution_count": 13,
   "metadata": {},
   "outputs": [],
   "source": [
    "dfdata2.loc[dfdata2.play_length.str.contains('-'), 'play_length'] = '00:00:00'\n",
    "dfdata2['play_length']=dfdata2['play_length'].apply(lambda x: datetime.strptime(x, '%X'))\n",
    "dfdata2['play_length']=dfdata2['play_length'].dt.second"
   ]
  },
  {
   "cell_type": "code",
   "execution_count": 15,
   "metadata": {},
   "outputs": [
    {
     "data": {
      "text/html": [
       "<div>\n",
       "<style scoped>\n",
       "    .dataframe tbody tr th:only-of-type {\n",
       "        vertical-align: middle;\n",
       "    }\n",
       "\n",
       "    .dataframe tbody tr th {\n",
       "        vertical-align: top;\n",
       "    }\n",
       "\n",
       "    .dataframe thead th {\n",
       "        text-align: right;\n",
       "    }\n",
       "</style>\n",
       "<table border=\"1\" class=\"dataframe\">\n",
       "  <thead>\n",
       "    <tr style=\"text-align: right;\">\n",
       "      <th></th>\n",
       "      <th>Lineup</th>\n",
       "      <th>ScoredConceded</th>\n",
       "      <th>play_length</th>\n",
       "    </tr>\n",
       "  </thead>\n",
       "  <tbody>\n",
       "    <tr>\n",
       "      <th>0</th>\n",
       "      <td>Blake Griffin, Danilo Gallinari, DeAndre Jorda...</td>\n",
       "      <td>Conceded</td>\n",
       "      <td>0</td>\n",
       "    </tr>\n",
       "    <tr>\n",
       "      <th>1</th>\n",
       "      <td>Blake Griffin, Danilo Gallinari, DeAndre Jorda...</td>\n",
       "      <td>Scored</td>\n",
       "      <td>0</td>\n",
       "    </tr>\n",
       "    <tr>\n",
       "      <th>2</th>\n",
       "      <td>Blake Griffin, Danilo Gallinari, DeAndre Jorda...</td>\n",
       "      <td>Scored</td>\n",
       "      <td>20</td>\n",
       "    </tr>\n",
       "    <tr>\n",
       "      <th>3</th>\n",
       "      <td>Blake Griffin, Danilo Gallinari, DeAndre Jorda...</td>\n",
       "      <td>Conceded</td>\n",
       "      <td>3</td>\n",
       "    </tr>\n",
       "    <tr>\n",
       "      <th>4</th>\n",
       "      <td>Blake Griffin, Danilo Gallinari, DeAndre Jorda...</td>\n",
       "      <td>Conceded</td>\n",
       "      <td>19</td>\n",
       "    </tr>\n",
       "  </tbody>\n",
       "</table>\n",
       "</div>"
      ],
      "text/plain": [
       "                                              Lineup ScoredConceded  \\\n",
       "0  Blake Griffin, Danilo Gallinari, DeAndre Jorda...       Conceded   \n",
       "1  Blake Griffin, Danilo Gallinari, DeAndre Jorda...         Scored   \n",
       "2  Blake Griffin, Danilo Gallinari, DeAndre Jorda...         Scored   \n",
       "3  Blake Griffin, Danilo Gallinari, DeAndre Jorda...       Conceded   \n",
       "4  Blake Griffin, Danilo Gallinari, DeAndre Jorda...       Conceded   \n",
       "\n",
       "   play_length  \n",
       "0            0  \n",
       "1            0  \n",
       "2           20  \n",
       "3            3  \n",
       "4           19  "
      ]
     },
     "execution_count": 15,
     "metadata": {},
     "output_type": "execute_result"
    }
   ],
   "source": [
    "dfdata2.head()"
   ]
  },
  {
   "cell_type": "markdown",
   "metadata": {},
   "source": [
    "Grouping the lineups by their total play_length"
   ]
  },
  {
   "cell_type": "code",
   "execution_count": 16,
   "metadata": {},
   "outputs": [],
   "source": [
    "df2= dfdata2.groupby(by='Lineup').agg({'play_length':sum})"
   ]
  },
  {
   "cell_type": "markdown",
   "metadata": {},
   "source": [
    "# putting the dataframes together together"
   ]
  },
  {
   "cell_type": "markdown",
   "metadata": {},
   "source": [
    "We wanted to merge the play_length with the lineups using the lineup dataframe was the dataframe to join to."
   ]
  },
  {
   "cell_type": "code",
   "execution_count": 17,
   "metadata": {},
   "outputs": [],
   "source": [
    "df = pd.merge(FinalData, df2, on = ['Lineup'], how = 'left')"
   ]
  },
  {
   "cell_type": "markdown",
   "metadata": {},
   "source": [
    "Check for null values and how the data look"
   ]
  },
  {
   "cell_type": "code",
   "execution_count": 18,
   "metadata": {
    "scrolled": true
   },
   "outputs": [
    {
     "data": {
      "text/plain": [
       "Lineup         0\n",
       "Conceded       0\n",
       "Scored         0\n",
       "PlusMinus      0\n",
       "Team           0\n",
       "play_length    0\n",
       "dtype: int64"
      ]
     },
     "execution_count": 18,
     "metadata": {},
     "output_type": "execute_result"
    }
   ],
   "source": [
    "df.isnull().sum()"
   ]
  },
  {
   "cell_type": "code",
   "execution_count": 19,
   "metadata": {
    "scrolled": true
   },
   "outputs": [
    {
     "data": {
      "text/html": [
       "<div>\n",
       "<style scoped>\n",
       "    .dataframe tbody tr th:only-of-type {\n",
       "        vertical-align: middle;\n",
       "    }\n",
       "\n",
       "    .dataframe tbody tr th {\n",
       "        vertical-align: top;\n",
       "    }\n",
       "\n",
       "    .dataframe thead th {\n",
       "        text-align: right;\n",
       "    }\n",
       "</style>\n",
       "<table border=\"1\" class=\"dataframe\">\n",
       "  <thead>\n",
       "    <tr style=\"text-align: right;\">\n",
       "      <th></th>\n",
       "      <th>Lineup</th>\n",
       "      <th>Conceded</th>\n",
       "      <th>Scored</th>\n",
       "      <th>PlusMinus</th>\n",
       "      <th>Team</th>\n",
       "      <th>play_length</th>\n",
       "    </tr>\n",
       "  </thead>\n",
       "  <tbody>\n",
       "    <tr>\n",
       "      <th>13535</th>\n",
       "      <td>Khem Birch, Mario Hezonja, Nikola Vucevic, She...</td>\n",
       "      <td>3.0</td>\n",
       "      <td>5.0</td>\n",
       "      <td>2.0</td>\n",
       "      <td>ORL</td>\n",
       "      <td>139</td>\n",
       "    </tr>\n",
       "    <tr>\n",
       "      <th>13536</th>\n",
       "      <td>Khem Birch, Mario Hezonja, Rashad Vaughn, Shel...</td>\n",
       "      <td>3.0</td>\n",
       "      <td>1.0</td>\n",
       "      <td>-2.0</td>\n",
       "      <td>ORL</td>\n",
       "      <td>46</td>\n",
       "    </tr>\n",
       "    <tr>\n",
       "      <th>13537</th>\n",
       "      <td>Khem Birch, Mario Hezonja, Rodney Purvis, Shel...</td>\n",
       "      <td>5.0</td>\n",
       "      <td>8.0</td>\n",
       "      <td>3.0</td>\n",
       "      <td>ORL</td>\n",
       "      <td>142</td>\n",
       "    </tr>\n",
       "    <tr>\n",
       "      <th>13538</th>\n",
       "      <td>Khem Birch, Marreese Speights, Rodney Purvis, ...</td>\n",
       "      <td>14.0</td>\n",
       "      <td>11.0</td>\n",
       "      <td>-3.0</td>\n",
       "      <td>ORL</td>\n",
       "      <td>201</td>\n",
       "    </tr>\n",
       "    <tr>\n",
       "      <th>13539</th>\n",
       "      <td>Khem Birch, Nikola Vucevic, Rodney Purvis, She...</td>\n",
       "      <td>4.0</td>\n",
       "      <td>2.0</td>\n",
       "      <td>-2.0</td>\n",
       "      <td>ORL</td>\n",
       "      <td>58</td>\n",
       "    </tr>\n",
       "  </tbody>\n",
       "</table>\n",
       "</div>"
      ],
      "text/plain": [
       "                                                  Lineup  Conceded  Scored  \\\n",
       "13535  Khem Birch, Mario Hezonja, Nikola Vucevic, She...       3.0     5.0   \n",
       "13536  Khem Birch, Mario Hezonja, Rashad Vaughn, Shel...       3.0     1.0   \n",
       "13537  Khem Birch, Mario Hezonja, Rodney Purvis, Shel...       5.0     8.0   \n",
       "13538  Khem Birch, Marreese Speights, Rodney Purvis, ...      14.0    11.0   \n",
       "13539  Khem Birch, Nikola Vucevic, Rodney Purvis, She...       4.0     2.0   \n",
       "\n",
       "       PlusMinus Team  play_length  \n",
       "13535        2.0  ORL          139  \n",
       "13536       -2.0  ORL           46  \n",
       "13537        3.0  ORL          142  \n",
       "13538       -3.0  ORL          201  \n",
       "13539       -2.0  ORL           58  "
      ]
     },
     "execution_count": 19,
     "metadata": {},
     "output_type": "execute_result"
    }
   ],
   "source": [
    "df.tail()"
   ]
  },
  {
   "cell_type": "code",
   "execution_count": 20,
   "metadata": {},
   "outputs": [
    {
     "data": {
      "text/plain": [
       "30"
      ]
     },
     "execution_count": 20,
     "metadata": {},
     "output_type": "execute_result"
    }
   ],
   "source": [
    "df.Team.nunique()"
   ]
  },
  {
   "cell_type": "markdown",
   "metadata": {},
   "source": [
    "A small amount of the lineups recorded 0 seconds in play. For our calculation, we change these values to 1 second for the calculation to go through (without giving infinite values). Our argument was: if a lineup scored or conceded some points (plus or minus or scored or conceded > 0) and play_length ==0, that doesn't make any sense. So we made them played at least 1 second.\n",
    "Then we calculated the point(s) scored per second and conceded per second of each individual lineups."
   ]
  },
  {
   "cell_type": "code",
   "execution_count": 21,
   "metadata": {},
   "outputs": [],
   "source": [
    "df.loc[df.play_length ==0,'play_length'] = 1\n",
    "df['Scored_per_sec'] = df['Scored'] / df['play_length']\n",
    "df['Conceded_per_sec'] = df['Conceded'] / df['play_length']"
   ]
  },
  {
   "cell_type": "code",
   "execution_count": 22,
   "metadata": {},
   "outputs": [
    {
     "data": {
      "text/html": [
       "<div>\n",
       "<style scoped>\n",
       "    .dataframe tbody tr th:only-of-type {\n",
       "        vertical-align: middle;\n",
       "    }\n",
       "\n",
       "    .dataframe tbody tr th {\n",
       "        vertical-align: top;\n",
       "    }\n",
       "\n",
       "    .dataframe thead th {\n",
       "        text-align: right;\n",
       "    }\n",
       "</style>\n",
       "<table border=\"1\" class=\"dataframe\">\n",
       "  <thead>\n",
       "    <tr style=\"text-align: right;\">\n",
       "      <th></th>\n",
       "      <th>Conceded</th>\n",
       "      <th>Scored</th>\n",
       "      <th>PlusMinus</th>\n",
       "      <th>play_length</th>\n",
       "      <th>Scored_per_sec</th>\n",
       "      <th>Conceded_per_sec</th>\n",
       "    </tr>\n",
       "  </thead>\n",
       "  <tbody>\n",
       "    <tr>\n",
       "      <th>count</th>\n",
       "      <td>13540.000000</td>\n",
       "      <td>13540.000000</td>\n",
       "      <td>13540.000000</td>\n",
       "      <td>13540.000000</td>\n",
       "      <td>13540.000000</td>\n",
       "      <td>13540.000000</td>\n",
       "    </tr>\n",
       "    <tr>\n",
       "      <th>mean</th>\n",
       "      <td>18.725332</td>\n",
       "      <td>18.725332</td>\n",
       "      <td>0.000000</td>\n",
       "      <td>510.201256</td>\n",
       "      <td>0.040899</td>\n",
       "      <td>0.048857</td>\n",
       "    </tr>\n",
       "    <tr>\n",
       "      <th>std</th>\n",
       "      <td>61.448996</td>\n",
       "      <td>64.625782</td>\n",
       "      <td>8.233599</td>\n",
       "      <td>1713.521486</td>\n",
       "      <td>0.077514</td>\n",
       "      <td>0.113430</td>\n",
       "    </tr>\n",
       "    <tr>\n",
       "      <th>min</th>\n",
       "      <td>0.000000</td>\n",
       "      <td>0.000000</td>\n",
       "      <td>-88.000000</td>\n",
       "      <td>1.000000</td>\n",
       "      <td>0.000000</td>\n",
       "      <td>0.000000</td>\n",
       "    </tr>\n",
       "    <tr>\n",
       "      <th>25%</th>\n",
       "      <td>3.000000</td>\n",
       "      <td>2.000000</td>\n",
       "      <td>-3.000000</td>\n",
       "      <td>80.000000</td>\n",
       "      <td>0.023392</td>\n",
       "      <td>0.026667</td>\n",
       "    </tr>\n",
       "    <tr>\n",
       "      <th>50%</th>\n",
       "      <td>7.000000</td>\n",
       "      <td>6.000000</td>\n",
       "      <td>0.000000</td>\n",
       "      <td>181.500000</td>\n",
       "      <td>0.035105</td>\n",
       "      <td>0.037037</td>\n",
       "    </tr>\n",
       "    <tr>\n",
       "      <th>75%</th>\n",
       "      <td>16.000000</td>\n",
       "      <td>15.000000</td>\n",
       "      <td>2.000000</td>\n",
       "      <td>410.000000</td>\n",
       "      <td>0.045113</td>\n",
       "      <td>0.048387</td>\n",
       "    </tr>\n",
       "    <tr>\n",
       "      <th>max</th>\n",
       "      <td>2108.000000</td>\n",
       "      <td>2181.000000</td>\n",
       "      <td>230.000000</td>\n",
       "      <td>57209.000000</td>\n",
       "      <td>3.000000</td>\n",
       "      <td>3.000000</td>\n",
       "    </tr>\n",
       "  </tbody>\n",
       "</table>\n",
       "</div>"
      ],
      "text/plain": [
       "           Conceded        Scored     PlusMinus   play_length  Scored_per_sec  \\\n",
       "count  13540.000000  13540.000000  13540.000000  13540.000000    13540.000000   \n",
       "mean      18.725332     18.725332      0.000000    510.201256        0.040899   \n",
       "std       61.448996     64.625782      8.233599   1713.521486        0.077514   \n",
       "min        0.000000      0.000000    -88.000000      1.000000        0.000000   \n",
       "25%        3.000000      2.000000     -3.000000     80.000000        0.023392   \n",
       "50%        7.000000      6.000000      0.000000    181.500000        0.035105   \n",
       "75%       16.000000     15.000000      2.000000    410.000000        0.045113   \n",
       "max     2108.000000   2181.000000    230.000000  57209.000000        3.000000   \n",
       "\n",
       "       Conceded_per_sec  \n",
       "count      13540.000000  \n",
       "mean           0.048857  \n",
       "std            0.113430  \n",
       "min            0.000000  \n",
       "25%            0.026667  \n",
       "50%            0.037037  \n",
       "75%            0.048387  \n",
       "max            3.000000  "
      ]
     },
     "execution_count": 22,
     "metadata": {},
     "output_type": "execute_result"
    }
   ],
   "source": [
    "df.describe()"
   ]
  },
  {
   "cell_type": "markdown",
   "metadata": {},
   "source": [
    "# Test"
   ]
  },
  {
   "cell_type": "markdown",
   "metadata": {},
   "source": [
    "We imported the test set with the lineup playtime. using similar methods we did for the train set."
   ]
  },
  {
   "cell_type": "code",
   "execution_count": 58,
   "metadata": {},
   "outputs": [
    {
     "data": {
      "text/plain": [
       "119"
      ]
     },
     "execution_count": 58,
     "metadata": {},
     "output_type": "execute_result"
    }
   ],
   "source": [
    "Test_Files = []\n",
    "\n",
    "for file in os.listdir(\"~/TEST/\"):\n",
    "    Test_Files.append(file)\n",
    "\n",
    "#TEST_Files\n",
    "all_teams = []\n",
    "for file_name in Test_Files:\n",
    "    if file_name.endswith('.csv'):\n",
    "        all_teams.append(file_name[24:27])\n",
    "        all_teams.append(file_name[28:31])\n",
    "all_teams = list(set(all_teams))\n",
    "team_dict = {all_teams[team]: [] for team in range(len(all_teams))}\n",
    "for team in team_dict:\n",
    "    for file in Test_Files:\n",
    "        if team in file:\n",
    "            team_dict.get(team).append(file)\n",
    "\n",
    "len(Test_Files)"
   ]
  },
  {
   "cell_type": "code",
   "execution_count": 90,
   "metadata": {
    "scrolled": false
   },
   "outputs": [
    {
     "data": {
      "text/html": [
       "<div>\n",
       "<style scoped>\n",
       "    .dataframe tbody tr th:only-of-type {\n",
       "        vertical-align: middle;\n",
       "    }\n",
       "\n",
       "    .dataframe tbody tr th {\n",
       "        vertical-align: top;\n",
       "    }\n",
       "\n",
       "    .dataframe thead th {\n",
       "        text-align: right;\n",
       "    }\n",
       "</style>\n",
       "<table border=\"1\" class=\"dataframe\">\n",
       "  <thead>\n",
       "    <tr style=\"text-align: right;\">\n",
       "      <th></th>\n",
       "      <th>Lineup</th>\n",
       "      <th>play_length</th>\n",
       "      <th>game_id</th>\n",
       "      <th>Team</th>\n",
       "    </tr>\n",
       "  </thead>\n",
       "  <tbody>\n",
       "    <tr>\n",
       "      <th>0</th>\n",
       "      <td>Austin Rivers, Blake Griffin, DeAndre Jordan, ...</td>\n",
       "      <td>00:00:00</td>\n",
       "      <td>=\"0021700245\"</td>\n",
       "      <td>LAC</td>\n",
       "    </tr>\n",
       "    <tr>\n",
       "      <th>1</th>\n",
       "      <td>Austin Rivers, Blake Griffin, DeAndre Jordan, ...</td>\n",
       "      <td>00:00:00</td>\n",
       "      <td>=\"0021700245\"</td>\n",
       "      <td>LAC</td>\n",
       "    </tr>\n",
       "    <tr>\n",
       "      <th>2</th>\n",
       "      <td>Austin Rivers, Blake Griffin, DeAndre Jordan, ...</td>\n",
       "      <td>00:00:22</td>\n",
       "      <td>=\"0021700245\"</td>\n",
       "      <td>LAC</td>\n",
       "    </tr>\n",
       "    <tr>\n",
       "      <th>3</th>\n",
       "      <td>Austin Rivers, Blake Griffin, DeAndre Jordan, ...</td>\n",
       "      <td>00:00:22</td>\n",
       "      <td>=\"0021700245\"</td>\n",
       "      <td>LAC</td>\n",
       "    </tr>\n",
       "    <tr>\n",
       "      <th>4</th>\n",
       "      <td>Austin Rivers, Blake Griffin, DeAndre Jordan, ...</td>\n",
       "      <td>00:00:14</td>\n",
       "      <td>=\"0021700245\"</td>\n",
       "      <td>LAC</td>\n",
       "    </tr>\n",
       "  </tbody>\n",
       "</table>\n",
       "</div>"
      ],
      "text/plain": [
       "                                              Lineup play_length  \\\n",
       "0  Austin Rivers, Blake Griffin, DeAndre Jordan, ...    00:00:00   \n",
       "1  Austin Rivers, Blake Griffin, DeAndre Jordan, ...    00:00:00   \n",
       "2  Austin Rivers, Blake Griffin, DeAndre Jordan, ...    00:00:22   \n",
       "3  Austin Rivers, Blake Griffin, DeAndre Jordan, ...    00:00:22   \n",
       "4  Austin Rivers, Blake Griffin, DeAndre Jordan, ...    00:00:14   \n",
       "\n",
       "         game_id Team  \n",
       "0  =\"0021700245\"  LAC  \n",
       "1  =\"0021700245\"  LAC  \n",
       "2  =\"0021700245\"  LAC  \n",
       "3  =\"0021700245\"  LAC  \n",
       "4  =\"0021700245\"  LAC  "
      ]
     },
     "execution_count": 90,
     "metadata": {},
     "output_type": "execute_result"
    }
   ],
   "source": [
    "\n",
    "from datetime import datetime\n",
    "Directory = \"~/TEST/\"\n",
    "\n",
    "FinalDatatest = None\n",
    "\n",
    "for team in team_dict:\n",
    "    \n",
    "    # Create an Empty Data Frame so that we can merge # \n",
    "\n",
    "    TeamData = pd.DataFrame(columns = ['Lineup', 'play_length','game_id'])\n",
    "\n",
    "    for file in team_dict.get(team):\n",
    "\n",
    "        data = pd.read_csv(Directory + file)\n",
    "\n",
    "        if (\"@\" + team) in file: \n",
    "            HomeAway = \"Home\"\n",
    "\n",
    "            temp_data = data[['h1', 'h2', 'h3', 'h4', 'h5','play_length','game_id']]\n",
    "\n",
    "            temp_data.columns = ['p1', 'p2', 'p3', 'p4', 'p5','play_length','game_id']\n",
    "\n",
    "            #temp_data['ScoredConceded'] = np.where(temp_data['team'] == team, \"Scored\", \"Conceded\")    \n",
    "\n",
    "            temp_data = temp_data.loc[temp_data['play_length'].notnull()]\n",
    "\n",
    "            names = temp_data[['p1', 'p2', 'p3', 'p4', 'p5']].values.tolist()\n",
    "\n",
    "            SortedLines = []\n",
    "\n",
    "            for line in names: \n",
    "\n",
    "                SortedLines.append( sorted(line) )\n",
    "\n",
    "            SortedLines = pd.DataFrame(SortedLines, columns = ['p1', 'p2', 'p3', 'p4', 'p5'])\n",
    "\n",
    "            SortedLines['Lineup'] = SortedLines[['p1', 'p2', 'p3', 'p4', 'p5']].apply(lambda x: ', '.join(x), axis=1)\n",
    "            \n",
    "\n",
    "            SortedLines.reset_index(inplace = True)\n",
    "            temp_data.reset_index(inplace = True) \n",
    "\n",
    "            temp_data['Lineup'] = SortedLines['Lineup']\n",
    "\n",
    "            temp_data = temp_data[['Lineup', 'play_length','game_id']]\n",
    "            \n",
    "\n",
    "            # Combine Data Files #\n",
    "\n",
    "            TeamData = pd.concat([TeamData, temp_data])\n",
    "\n",
    "\n",
    "        else:\n",
    "            HomeAway = \"Away\"\n",
    "\n",
    "            temp_data = data[['a1', 'a2', 'a3', 'a4', 'a5', 'play_length','game_id']]\n",
    "\n",
    "            temp_data.columns = ['p1', 'p2', 'p3', 'p4', 'p5', 'play_length','game_id']\n",
    "\n",
    "            #temp_data['ScoredConceded'] = np.where(temp_data['team'] == team, \"Scored\", \"Conceded\")    \n",
    "\n",
    "            temp_data = temp_data.loc[temp_data['play_length'].notnull()]\n",
    "\n",
    "            names = temp_data[['p1', 'p2', 'p3', 'p4', 'p5']].values.tolist()\n",
    "\n",
    "            SortedLines = []\n",
    "\n",
    "            for line in names: \n",
    "\n",
    "                SortedLines.append( sorted(line) )\n",
    "\n",
    "            SortedLines = pd.DataFrame(SortedLines, columns = ['p1', 'p2', 'p3', 'p4', 'p5'])\n",
    "\n",
    "            SortedLines['Lineup'] = SortedLines[['p1', 'p2', 'p3', 'p4', 'p5']].apply(lambda x: ', '.join(x), axis=1)\n",
    "            \n",
    "\n",
    "            SortedLines.reset_index(inplace = True)\n",
    "            temp_data.reset_index(inplace = True)\n",
    "\n",
    "            temp_data['Lineup'] = SortedLines['Lineup']\n",
    "\n",
    "            temp_data = temp_data[['Lineup','play_length','game_id']]\n",
    "            \n",
    "            \n",
    "            TeamData = pd.concat([TeamData, temp_data])\n",
    "            \n",
    "    TeamData['Team'] = team        \n",
    "    \n",
    "    FinalDatatest = pd.concat([FinalDatatest, TeamData])\n",
    "\n",
    "FinalDatatest.head()"
   ]
  },
  {
   "cell_type": "code",
   "execution_count": 99,
   "metadata": {},
   "outputs": [
    {
     "data": {
      "text/plain": [
       "119"
      ]
     },
     "execution_count": 99,
     "metadata": {},
     "output_type": "execute_result"
    }
   ],
   "source": [
    "FinalDatatest['game_id'].nunique()"
   ]
  },
  {
   "cell_type": "code",
   "execution_count": 92,
   "metadata": {},
   "outputs": [
    {
     "data": {
      "text/html": [
       "<div>\n",
       "<style scoped>\n",
       "    .dataframe tbody tr th:only-of-type {\n",
       "        vertical-align: middle;\n",
       "    }\n",
       "\n",
       "    .dataframe tbody tr th {\n",
       "        vertical-align: top;\n",
       "    }\n",
       "\n",
       "    .dataframe thead th {\n",
       "        text-align: right;\n",
       "    }\n",
       "</style>\n",
       "<table border=\"1\" class=\"dataframe\">\n",
       "  <thead>\n",
       "    <tr style=\"text-align: right;\">\n",
       "      <th></th>\n",
       "      <th>Lineup</th>\n",
       "      <th>play_length</th>\n",
       "      <th>game_id</th>\n",
       "      <th>Team</th>\n",
       "    </tr>\n",
       "  </thead>\n",
       "  <tbody>\n",
       "    <tr>\n",
       "      <th>0</th>\n",
       "      <td>Austin Rivers, Blake Griffin, DeAndre Jordan, ...</td>\n",
       "      <td>00:00:00</td>\n",
       "      <td>=\"0021700245\"</td>\n",
       "      <td>LAC</td>\n",
       "    </tr>\n",
       "    <tr>\n",
       "      <th>1</th>\n",
       "      <td>Austin Rivers, Blake Griffin, DeAndre Jordan, ...</td>\n",
       "      <td>00:00:00</td>\n",
       "      <td>=\"0021700245\"</td>\n",
       "      <td>LAC</td>\n",
       "    </tr>\n",
       "    <tr>\n",
       "      <th>2</th>\n",
       "      <td>Austin Rivers, Blake Griffin, DeAndre Jordan, ...</td>\n",
       "      <td>00:00:22</td>\n",
       "      <td>=\"0021700245\"</td>\n",
       "      <td>LAC</td>\n",
       "    </tr>\n",
       "    <tr>\n",
       "      <th>3</th>\n",
       "      <td>Austin Rivers, Blake Griffin, DeAndre Jordan, ...</td>\n",
       "      <td>00:00:22</td>\n",
       "      <td>=\"0021700245\"</td>\n",
       "      <td>LAC</td>\n",
       "    </tr>\n",
       "    <tr>\n",
       "      <th>4</th>\n",
       "      <td>Austin Rivers, Blake Griffin, DeAndre Jordan, ...</td>\n",
       "      <td>00:00:14</td>\n",
       "      <td>=\"0021700245\"</td>\n",
       "      <td>LAC</td>\n",
       "    </tr>\n",
       "  </tbody>\n",
       "</table>\n",
       "</div>"
      ],
      "text/plain": [
       "                                              Lineup play_length  \\\n",
       "0  Austin Rivers, Blake Griffin, DeAndre Jordan, ...    00:00:00   \n",
       "1  Austin Rivers, Blake Griffin, DeAndre Jordan, ...    00:00:00   \n",
       "2  Austin Rivers, Blake Griffin, DeAndre Jordan, ...    00:00:22   \n",
       "3  Austin Rivers, Blake Griffin, DeAndre Jordan, ...    00:00:22   \n",
       "4  Austin Rivers, Blake Griffin, DeAndre Jordan, ...    00:00:14   \n",
       "\n",
       "         game_id Team  \n",
       "0  =\"0021700245\"  LAC  \n",
       "1  =\"0021700245\"  LAC  \n",
       "2  =\"0021700245\"  LAC  \n",
       "3  =\"0021700245\"  LAC  \n",
       "4  =\"0021700245\"  LAC  "
      ]
     },
     "execution_count": 92,
     "metadata": {},
     "output_type": "execute_result"
    }
   ],
   "source": [
    "FinalDatatest.head()"
   ]
  },
  {
   "cell_type": "code",
   "execution_count": 93,
   "metadata": {},
   "outputs": [],
   "source": [
    "FinalDatatest.loc[FinalDatatest['play_length'].str.contains('-'), 'play_length'] = '00:00:00'\n",
    "FinalDatatest['play_length']=FinalDatatest['play_length'].apply(lambda x: datetime.strptime(x, '%X'))\n",
    "FinalDatatest['play_length']=FinalDatatest['play_length'].dt.second"
   ]
  },
  {
   "cell_type": "code",
   "execution_count": 95,
   "metadata": {},
   "outputs": [
    {
     "data": {
      "text/plain": [
       "(110194, 4)"
      ]
     },
     "execution_count": 95,
     "metadata": {},
     "output_type": "execute_result"
    }
   ],
   "source": [
    "FinalDatatest.shape"
   ]
  },
  {
   "cell_type": "code",
   "execution_count": 75,
   "metadata": {},
   "outputs": [],
   "source": [
    "# FinalDatatest['game_id'] = FinalDatatest['game_id'].str.replace('\"','')\n",
    "# FinalDatatest['game_id'] = FinalDatatest['game_id'].str.replace('=','')"
   ]
  },
  {
   "cell_type": "code",
   "execution_count": 96,
   "metadata": {},
   "outputs": [
    {
     "data": {
      "text/html": [
       "<div>\n",
       "<style scoped>\n",
       "    .dataframe tbody tr th:only-of-type {\n",
       "        vertical-align: middle;\n",
       "    }\n",
       "\n",
       "    .dataframe tbody tr th {\n",
       "        vertical-align: top;\n",
       "    }\n",
       "\n",
       "    .dataframe thead th {\n",
       "        text-align: right;\n",
       "    }\n",
       "</style>\n",
       "<table border=\"1\" class=\"dataframe\">\n",
       "  <thead>\n",
       "    <tr style=\"text-align: right;\">\n",
       "      <th></th>\n",
       "      <th>play_length</th>\n",
       "    </tr>\n",
       "  </thead>\n",
       "  <tbody>\n",
       "    <tr>\n",
       "      <th>count</th>\n",
       "      <td>110194.000000</td>\n",
       "    </tr>\n",
       "    <tr>\n",
       "      <th>mean</th>\n",
       "      <td>6.252972</td>\n",
       "    </tr>\n",
       "    <tr>\n",
       "      <th>std</th>\n",
       "      <td>6.960576</td>\n",
       "    </tr>\n",
       "    <tr>\n",
       "      <th>min</th>\n",
       "      <td>0.000000</td>\n",
       "    </tr>\n",
       "    <tr>\n",
       "      <th>25%</th>\n",
       "      <td>0.000000</td>\n",
       "    </tr>\n",
       "    <tr>\n",
       "      <th>50%</th>\n",
       "      <td>3.000000</td>\n",
       "    </tr>\n",
       "    <tr>\n",
       "      <th>75%</th>\n",
       "      <td>11.000000</td>\n",
       "    </tr>\n",
       "    <tr>\n",
       "      <th>max</th>\n",
       "      <td>35.000000</td>\n",
       "    </tr>\n",
       "  </tbody>\n",
       "</table>\n",
       "</div>"
      ],
      "text/plain": [
       "         play_length\n",
       "count  110194.000000\n",
       "mean        6.252972\n",
       "std         6.960576\n",
       "min         0.000000\n",
       "25%         0.000000\n",
       "50%         3.000000\n",
       "75%        11.000000\n",
       "max        35.000000"
      ]
     },
     "execution_count": 96,
     "metadata": {},
     "output_type": "execute_result"
    }
   ],
   "source": [
    "FinalDatatest.describe()"
   ]
  },
  {
   "cell_type": "markdown",
   "metadata": {},
   "source": [
    "drop from train set to avoid duplicates"
   ]
  },
  {
   "cell_type": "code",
   "execution_count": 98,
   "metadata": {},
   "outputs": [],
   "source": [
    "dftrain = df.drop(columns=['play_length','Conceded','Scored','Team','PlusMinus']) "
   ]
  },
  {
   "cell_type": "code",
   "execution_count": 101,
   "metadata": {},
   "outputs": [
    {
     "data": {
      "text/html": [
       "<div>\n",
       "<style scoped>\n",
       "    .dataframe tbody tr th:only-of-type {\n",
       "        vertical-align: middle;\n",
       "    }\n",
       "\n",
       "    .dataframe tbody tr th {\n",
       "        vertical-align: top;\n",
       "    }\n",
       "\n",
       "    .dataframe thead th {\n",
       "        text-align: right;\n",
       "    }\n",
       "</style>\n",
       "<table border=\"1\" class=\"dataframe\">\n",
       "  <thead>\n",
       "    <tr style=\"text-align: right;\">\n",
       "      <th></th>\n",
       "      <th>Scored_per_sec</th>\n",
       "      <th>Conceded_per_sec</th>\n",
       "    </tr>\n",
       "  </thead>\n",
       "  <tbody>\n",
       "    <tr>\n",
       "      <th>count</th>\n",
       "      <td>13540.000000</td>\n",
       "      <td>13540.000000</td>\n",
       "    </tr>\n",
       "    <tr>\n",
       "      <th>mean</th>\n",
       "      <td>0.040899</td>\n",
       "      <td>0.048857</td>\n",
       "    </tr>\n",
       "    <tr>\n",
       "      <th>std</th>\n",
       "      <td>0.077514</td>\n",
       "      <td>0.113430</td>\n",
       "    </tr>\n",
       "    <tr>\n",
       "      <th>min</th>\n",
       "      <td>0.000000</td>\n",
       "      <td>0.000000</td>\n",
       "    </tr>\n",
       "    <tr>\n",
       "      <th>25%</th>\n",
       "      <td>0.023392</td>\n",
       "      <td>0.026667</td>\n",
       "    </tr>\n",
       "    <tr>\n",
       "      <th>50%</th>\n",
       "      <td>0.035105</td>\n",
       "      <td>0.037037</td>\n",
       "    </tr>\n",
       "    <tr>\n",
       "      <th>75%</th>\n",
       "      <td>0.045113</td>\n",
       "      <td>0.048387</td>\n",
       "    </tr>\n",
       "    <tr>\n",
       "      <th>max</th>\n",
       "      <td>3.000000</td>\n",
       "      <td>3.000000</td>\n",
       "    </tr>\n",
       "  </tbody>\n",
       "</table>\n",
       "</div>"
      ],
      "text/plain": [
       "       Scored_per_sec  Conceded_per_sec\n",
       "count    13540.000000      13540.000000\n",
       "mean         0.040899          0.048857\n",
       "std          0.077514          0.113430\n",
       "min          0.000000          0.000000\n",
       "25%          0.023392          0.026667\n",
       "50%          0.035105          0.037037\n",
       "75%          0.045113          0.048387\n",
       "max          3.000000          3.000000"
      ]
     },
     "execution_count": 101,
     "metadata": {},
     "output_type": "execute_result"
    }
   ],
   "source": [
    "dftrain.describe()"
   ]
  },
  {
   "cell_type": "code",
   "execution_count": 102,
   "metadata": {},
   "outputs": [],
   "source": [
    "dff_testmerged = pd.merge(FinalDatatest,dftrain, on = 'Lineup', how = 'left')"
   ]
  },
  {
   "cell_type": "markdown",
   "metadata": {},
   "source": [
    "Making sure we didn't lose any of our 119 games"
   ]
  },
  {
   "cell_type": "code",
   "execution_count": 107,
   "metadata": {},
   "outputs": [
    {
     "data": {
      "text/plain": [
       "119"
      ]
     },
     "execution_count": 107,
     "metadata": {},
     "output_type": "execute_result"
    }
   ],
   "source": [
    "dff_testmerged['game_id'].nunique()"
   ]
  },
  {
   "cell_type": "code",
   "execution_count": 104,
   "metadata": {},
   "outputs": [
    {
     "data": {
      "text/html": [
       "<div>\n",
       "<style scoped>\n",
       "    .dataframe tbody tr th:only-of-type {\n",
       "        vertical-align: middle;\n",
       "    }\n",
       "\n",
       "    .dataframe tbody tr th {\n",
       "        vertical-align: top;\n",
       "    }\n",
       "\n",
       "    .dataframe thead th {\n",
       "        text-align: right;\n",
       "    }\n",
       "</style>\n",
       "<table border=\"1\" class=\"dataframe\">\n",
       "  <thead>\n",
       "    <tr style=\"text-align: right;\">\n",
       "      <th></th>\n",
       "      <th>Lineup</th>\n",
       "      <th>play_length</th>\n",
       "      <th>game_id</th>\n",
       "      <th>Team</th>\n",
       "      <th>Scored_per_sec</th>\n",
       "      <th>Conceded_per_sec</th>\n",
       "    </tr>\n",
       "  </thead>\n",
       "  <tbody>\n",
       "    <tr>\n",
       "      <th>0</th>\n",
       "      <td>Austin Rivers, Blake Griffin, DeAndre Jordan, ...</td>\n",
       "      <td>0</td>\n",
       "      <td>=\"0021700245\"</td>\n",
       "      <td>LAC</td>\n",
       "      <td>0.039929</td>\n",
       "      <td>0.040989</td>\n",
       "    </tr>\n",
       "    <tr>\n",
       "      <th>1</th>\n",
       "      <td>Austin Rivers, Blake Griffin, DeAndre Jordan, ...</td>\n",
       "      <td>0</td>\n",
       "      <td>=\"0021700245\"</td>\n",
       "      <td>LAC</td>\n",
       "      <td>0.039929</td>\n",
       "      <td>0.040989</td>\n",
       "    </tr>\n",
       "    <tr>\n",
       "      <th>2</th>\n",
       "      <td>Austin Rivers, Blake Griffin, DeAndre Jordan, ...</td>\n",
       "      <td>22</td>\n",
       "      <td>=\"0021700245\"</td>\n",
       "      <td>LAC</td>\n",
       "      <td>0.039929</td>\n",
       "      <td>0.040989</td>\n",
       "    </tr>\n",
       "    <tr>\n",
       "      <th>3</th>\n",
       "      <td>Austin Rivers, Blake Griffin, DeAndre Jordan, ...</td>\n",
       "      <td>22</td>\n",
       "      <td>=\"0021700245\"</td>\n",
       "      <td>LAC</td>\n",
       "      <td>0.039929</td>\n",
       "      <td>0.040989</td>\n",
       "    </tr>\n",
       "    <tr>\n",
       "      <th>4</th>\n",
       "      <td>Austin Rivers, Blake Griffin, DeAndre Jordan, ...</td>\n",
       "      <td>14</td>\n",
       "      <td>=\"0021700245\"</td>\n",
       "      <td>LAC</td>\n",
       "      <td>0.039929</td>\n",
       "      <td>0.040989</td>\n",
       "    </tr>\n",
       "  </tbody>\n",
       "</table>\n",
       "</div>"
      ],
      "text/plain": [
       "                                              Lineup  play_length  \\\n",
       "0  Austin Rivers, Blake Griffin, DeAndre Jordan, ...            0   \n",
       "1  Austin Rivers, Blake Griffin, DeAndre Jordan, ...            0   \n",
       "2  Austin Rivers, Blake Griffin, DeAndre Jordan, ...           22   \n",
       "3  Austin Rivers, Blake Griffin, DeAndre Jordan, ...           22   \n",
       "4  Austin Rivers, Blake Griffin, DeAndre Jordan, ...           14   \n",
       "\n",
       "         game_id Team  Scored_per_sec  Conceded_per_sec  \n",
       "0  =\"0021700245\"  LAC        0.039929          0.040989  \n",
       "1  =\"0021700245\"  LAC        0.039929          0.040989  \n",
       "2  =\"0021700245\"  LAC        0.039929          0.040989  \n",
       "3  =\"0021700245\"  LAC        0.039929          0.040989  \n",
       "4  =\"0021700245\"  LAC        0.039929          0.040989  "
      ]
     },
     "execution_count": 104,
     "metadata": {},
     "output_type": "execute_result"
    }
   ],
   "source": [
    "dff_testmerged.head()"
   ]
  },
  {
   "cell_type": "markdown",
   "metadata": {},
   "source": [
    "Simple calculation of scored and conceded points."
   ]
  },
  {
   "cell_type": "code",
   "execution_count": 106,
   "metadata": {},
   "outputs": [],
   "source": [
    "dff_testmerged['score_calculated'] = dff_testmerged['play_length']*dff_testmerged['Scored_per_sec']\n",
    "dff_testmerged['conceded_calculated'] = dff_testmerged['play_length']*dff_testmerged['Conceded_per_sec']"
   ]
  },
  {
   "cell_type": "code",
   "execution_count": 108,
   "metadata": {
    "scrolled": true
   },
   "outputs": [
    {
     "data": {
      "text/html": [
       "<div>\n",
       "<style scoped>\n",
       "    .dataframe tbody tr th:only-of-type {\n",
       "        vertical-align: middle;\n",
       "    }\n",
       "\n",
       "    .dataframe tbody tr th {\n",
       "        vertical-align: top;\n",
       "    }\n",
       "\n",
       "    .dataframe thead th {\n",
       "        text-align: right;\n",
       "    }\n",
       "</style>\n",
       "<table border=\"1\" class=\"dataframe\">\n",
       "  <thead>\n",
       "    <tr style=\"text-align: right;\">\n",
       "      <th></th>\n",
       "      <th>play_length</th>\n",
       "      <th>Scored_per_sec</th>\n",
       "      <th>Conceded_per_sec</th>\n",
       "      <th>score_calculated</th>\n",
       "      <th>conceded_calculated</th>\n",
       "    </tr>\n",
       "  </thead>\n",
       "  <tbody>\n",
       "    <tr>\n",
       "      <th>count</th>\n",
       "      <td>110194.000000</td>\n",
       "      <td>109555.000000</td>\n",
       "      <td>109555.000000</td>\n",
       "      <td>109555.000000</td>\n",
       "      <td>109555.000000</td>\n",
       "    </tr>\n",
       "    <tr>\n",
       "      <th>mean</th>\n",
       "      <td>6.252972</td>\n",
       "      <td>0.037253</td>\n",
       "      <td>0.037841</td>\n",
       "      <td>0.231577</td>\n",
       "      <td>0.232213</td>\n",
       "    </tr>\n",
       "    <tr>\n",
       "      <th>std</th>\n",
       "      <td>6.960576</td>\n",
       "      <td>0.017633</td>\n",
       "      <td>0.030690</td>\n",
       "      <td>0.272174</td>\n",
       "      <td>0.273775</td>\n",
       "    </tr>\n",
       "    <tr>\n",
       "      <th>min</th>\n",
       "      <td>0.000000</td>\n",
       "      <td>0.000000</td>\n",
       "      <td>0.000000</td>\n",
       "      <td>0.000000</td>\n",
       "      <td>0.000000</td>\n",
       "    </tr>\n",
       "    <tr>\n",
       "      <th>25%</th>\n",
       "      <td>0.000000</td>\n",
       "      <td>0.032927</td>\n",
       "      <td>0.032520</td>\n",
       "      <td>0.000000</td>\n",
       "      <td>0.000000</td>\n",
       "    </tr>\n",
       "    <tr>\n",
       "      <th>50%</th>\n",
       "      <td>3.000000</td>\n",
       "      <td>0.037211</td>\n",
       "      <td>0.036301</td>\n",
       "      <td>0.118638</td>\n",
       "      <td>0.120337</td>\n",
       "    </tr>\n",
       "    <tr>\n",
       "      <th>75%</th>\n",
       "      <td>11.000000</td>\n",
       "      <td>0.040537</td>\n",
       "      <td>0.040729</td>\n",
       "      <td>0.401003</td>\n",
       "      <td>0.398090</td>\n",
       "    </tr>\n",
       "    <tr>\n",
       "      <th>max</th>\n",
       "      <td>35.000000</td>\n",
       "      <td>1.000000</td>\n",
       "      <td>2.000000</td>\n",
       "      <td>3.040000</td>\n",
       "      <td>3.000000</td>\n",
       "    </tr>\n",
       "  </tbody>\n",
       "</table>\n",
       "</div>"
      ],
      "text/plain": [
       "         play_length  Scored_per_sec  Conceded_per_sec  score_calculated  \\\n",
       "count  110194.000000   109555.000000     109555.000000     109555.000000   \n",
       "mean        6.252972        0.037253          0.037841          0.231577   \n",
       "std         6.960576        0.017633          0.030690          0.272174   \n",
       "min         0.000000        0.000000          0.000000          0.000000   \n",
       "25%         0.000000        0.032927          0.032520          0.000000   \n",
       "50%         3.000000        0.037211          0.036301          0.118638   \n",
       "75%        11.000000        0.040537          0.040729          0.401003   \n",
       "max        35.000000        1.000000          2.000000          3.040000   \n",
       "\n",
       "       conceded_calculated  \n",
       "count        109555.000000  \n",
       "mean              0.232213  \n",
       "std               0.273775  \n",
       "min               0.000000  \n",
       "25%               0.000000  \n",
       "50%               0.120337  \n",
       "75%               0.398090  \n",
       "max               3.000000  "
      ]
     },
     "execution_count": 108,
     "metadata": {},
     "output_type": "execute_result"
    }
   ],
   "source": [
    "dff_testmerged.describe()"
   ]
  },
  {
   "cell_type": "code",
   "execution_count": 115,
   "metadata": {
    "scrolled": true
   },
   "outputs": [],
   "source": [
    "insight1 = dff_testmerged.groupby(by=['game_id','Team']).agg({'score_calculated':sum,'conceded_calculated':sum})"
   ]
  },
  {
   "cell_type": "code",
   "execution_count": 116,
   "metadata": {},
   "outputs": [
    {
     "data": {
      "text/plain": [
       "119"
      ]
     },
     "execution_count": 116,
     "metadata": {},
     "output_type": "execute_result"
    }
   ],
   "source": [
    "insight1= insight1.reset_index()\n",
    "insight1['game_id'].nunique()"
   ]
  },
  {
   "cell_type": "code",
   "execution_count": 117,
   "metadata": {},
   "outputs": [
    {
     "data": {
      "text/html": [
       "<div>\n",
       "<style scoped>\n",
       "    .dataframe tbody tr th:only-of-type {\n",
       "        vertical-align: middle;\n",
       "    }\n",
       "\n",
       "    .dataframe tbody tr th {\n",
       "        vertical-align: top;\n",
       "    }\n",
       "\n",
       "    .dataframe thead th {\n",
       "        text-align: right;\n",
       "    }\n",
       "</style>\n",
       "<table border=\"1\" class=\"dataframe\">\n",
       "  <thead>\n",
       "    <tr style=\"text-align: right;\">\n",
       "      <th></th>\n",
       "      <th>game_id</th>\n",
       "      <th>Team</th>\n",
       "      <th>score_calculated</th>\n",
       "      <th>conceded_calculated</th>\n",
       "    </tr>\n",
       "  </thead>\n",
       "  <tbody>\n",
       "    <tr>\n",
       "      <th>0</th>\n",
       "      <td>21700095</td>\n",
       "      <td>HOU</td>\n",
       "      <td>113.053018</td>\n",
       "      <td>105.644645</td>\n",
       "    </tr>\n",
       "    <tr>\n",
       "      <th>1</th>\n",
       "      <td>21700095</td>\n",
       "      <td>PHI</td>\n",
       "      <td>106.294480</td>\n",
       "      <td>106.244342</td>\n",
       "    </tr>\n",
       "    <tr>\n",
       "      <th>2</th>\n",
       "      <td>21700152</td>\n",
       "      <td>CHA</td>\n",
       "      <td>111.637534</td>\n",
       "      <td>116.602312</td>\n",
       "    </tr>\n",
       "    <tr>\n",
       "      <th>3</th>\n",
       "      <td>21700152</td>\n",
       "      <td>NYK</td>\n",
       "      <td>107.833701</td>\n",
       "      <td>94.465786</td>\n",
       "    </tr>\n",
       "    <tr>\n",
       "      <th>4</th>\n",
       "      <td>21700164</td>\n",
       "      <td>LAL</td>\n",
       "      <td>102.211105</td>\n",
       "      <td>99.833124</td>\n",
       "    </tr>\n",
       "  </tbody>\n",
       "</table>\n",
       "</div>"
      ],
      "text/plain": [
       "    game_id Team  score_calculated  conceded_calculated\n",
       "0  21700095  HOU        113.053018           105.644645\n",
       "1  21700095  PHI        106.294480           106.244342\n",
       "2  21700152  CHA        111.637534           116.602312\n",
       "3  21700152  NYK        107.833701            94.465786\n",
       "4  21700164  LAL        102.211105            99.833124"
      ]
     },
     "execution_count": 117,
     "metadata": {},
     "output_type": "execute_result"
    }
   ],
   "source": [
    "insight1.head()"
   ]
  },
  {
   "cell_type": "markdown",
   "metadata": {},
   "source": [
    "# Train for individual player"
   ]
  },
  {
   "cell_type": "code",
   "execution_count": 132,
   "metadata": {
    "scrolled": true
   },
   "outputs": [
    {
     "data": {
      "text/html": [
       "<div>\n",
       "<style scoped>\n",
       "    .dataframe tbody tr th:only-of-type {\n",
       "        vertical-align: middle;\n",
       "    }\n",
       "\n",
       "    .dataframe tbody tr th {\n",
       "        vertical-align: top;\n",
       "    }\n",
       "\n",
       "    .dataframe thead th {\n",
       "        text-align: right;\n",
       "    }\n",
       "</style>\n",
       "<table border=\"1\" class=\"dataframe\">\n",
       "  <thead>\n",
       "    <tr style=\"text-align: right;\">\n",
       "      <th></th>\n",
       "      <th>Lineup</th>\n",
       "      <th>Conceded</th>\n",
       "      <th>Scored</th>\n",
       "      <th>PlusMinus</th>\n",
       "      <th>Team</th>\n",
       "      <th>play_length</th>\n",
       "      <th>Scored_per_sec</th>\n",
       "      <th>Conceded_per_sec</th>\n",
       "      <th>p1</th>\n",
       "      <th>p2</th>\n",
       "      <th>p3</th>\n",
       "      <th>p4</th>\n",
       "      <th>p5</th>\n",
       "      <th>scoredpersec_perplayer</th>\n",
       "      <th>concededpersec_perplayer</th>\n",
       "      <th>PlusMinuspersec</th>\n",
       "      <th>PlusMinuspersec_perplayer</th>\n",
       "    </tr>\n",
       "  </thead>\n",
       "  <tbody>\n",
       "    <tr>\n",
       "      <th>0</th>\n",
       "      <td>Austin Rivers, Avery Bradley, Danilo Gallinari...</td>\n",
       "      <td>0.0</td>\n",
       "      <td>2.0</td>\n",
       "      <td>2.0</td>\n",
       "      <td>LAC</td>\n",
       "      <td>67</td>\n",
       "      <td>0.029851</td>\n",
       "      <td>0.000000</td>\n",
       "      <td>Austin Rivers</td>\n",
       "      <td>Avery Bradley</td>\n",
       "      <td>Danilo Gallinari</td>\n",
       "      <td>DeAndre Jordan</td>\n",
       "      <td>Lou Williams</td>\n",
       "      <td>0.005970</td>\n",
       "      <td>0.000000</td>\n",
       "      <td>0.029851</td>\n",
       "      <td>0.005970</td>\n",
       "    </tr>\n",
       "    <tr>\n",
       "      <th>1</th>\n",
       "      <td>Austin Rivers, Avery Bradley, Danilo Gallinari...</td>\n",
       "      <td>111.0</td>\n",
       "      <td>124.0</td>\n",
       "      <td>13.0</td>\n",
       "      <td>LAC</td>\n",
       "      <td>3704</td>\n",
       "      <td>0.033477</td>\n",
       "      <td>0.029968</td>\n",
       "      <td>Austin Rivers</td>\n",
       "      <td>Avery Bradley</td>\n",
       "      <td>Danilo Gallinari</td>\n",
       "      <td>DeAndre Jordan</td>\n",
       "      <td>Tobias Harris</td>\n",
       "      <td>0.006695</td>\n",
       "      <td>0.005994</td>\n",
       "      <td>0.003510</td>\n",
       "      <td>0.000702</td>\n",
       "    </tr>\n",
       "    <tr>\n",
       "      <th>2</th>\n",
       "      <td>Austin Rivers, Avery Bradley, Danilo Gallinari...</td>\n",
       "      <td>33.0</td>\n",
       "      <td>25.0</td>\n",
       "      <td>-8.0</td>\n",
       "      <td>LAC</td>\n",
       "      <td>760</td>\n",
       "      <td>0.032895</td>\n",
       "      <td>0.043421</td>\n",
       "      <td>Austin Rivers</td>\n",
       "      <td>Avery Bradley</td>\n",
       "      <td>Danilo Gallinari</td>\n",
       "      <td>Lou Williams</td>\n",
       "      <td>Montrezl Harrell</td>\n",
       "      <td>0.006579</td>\n",
       "      <td>0.008684</td>\n",
       "      <td>-0.010526</td>\n",
       "      <td>-0.002105</td>\n",
       "    </tr>\n",
       "    <tr>\n",
       "      <th>3</th>\n",
       "      <td>Austin Rivers, Avery Bradley, Danilo Gallinari...</td>\n",
       "      <td>0.0</td>\n",
       "      <td>0.0</td>\n",
       "      <td>0.0</td>\n",
       "      <td>LAC</td>\n",
       "      <td>14</td>\n",
       "      <td>0.000000</td>\n",
       "      <td>0.000000</td>\n",
       "      <td>Austin Rivers</td>\n",
       "      <td>Avery Bradley</td>\n",
       "      <td>Danilo Gallinari</td>\n",
       "      <td>Montrezl Harrell</td>\n",
       "      <td>Tobias Harris</td>\n",
       "      <td>0.000000</td>\n",
       "      <td>0.000000</td>\n",
       "      <td>0.000000</td>\n",
       "      <td>0.000000</td>\n",
       "    </tr>\n",
       "    <tr>\n",
       "      <th>4</th>\n",
       "      <td>Austin Rivers, Avery Bradley, DeAndre Jordan, ...</td>\n",
       "      <td>12.0</td>\n",
       "      <td>18.0</td>\n",
       "      <td>6.0</td>\n",
       "      <td>LAC</td>\n",
       "      <td>396</td>\n",
       "      <td>0.045455</td>\n",
       "      <td>0.030303</td>\n",
       "      <td>Austin Rivers</td>\n",
       "      <td>Avery Bradley</td>\n",
       "      <td>DeAndre Jordan</td>\n",
       "      <td>Lou Williams</td>\n",
       "      <td>Tobias Harris</td>\n",
       "      <td>0.009091</td>\n",
       "      <td>0.006061</td>\n",
       "      <td>0.015152</td>\n",
       "      <td>0.003030</td>\n",
       "    </tr>\n",
       "  </tbody>\n",
       "</table>\n",
       "</div>"
      ],
      "text/plain": [
       "                                              Lineup  Conceded  Scored  \\\n",
       "0  Austin Rivers, Avery Bradley, Danilo Gallinari...       0.0     2.0   \n",
       "1  Austin Rivers, Avery Bradley, Danilo Gallinari...     111.0   124.0   \n",
       "2  Austin Rivers, Avery Bradley, Danilo Gallinari...      33.0    25.0   \n",
       "3  Austin Rivers, Avery Bradley, Danilo Gallinari...       0.0     0.0   \n",
       "4  Austin Rivers, Avery Bradley, DeAndre Jordan, ...      12.0    18.0   \n",
       "\n",
       "   PlusMinus Team  play_length  Scored_per_sec  Conceded_per_sec  \\\n",
       "0        2.0  LAC           67        0.029851          0.000000   \n",
       "1       13.0  LAC         3704        0.033477          0.029968   \n",
       "2       -8.0  LAC          760        0.032895          0.043421   \n",
       "3        0.0  LAC           14        0.000000          0.000000   \n",
       "4        6.0  LAC          396        0.045455          0.030303   \n",
       "\n",
       "              p1             p2                p3                p4  \\\n",
       "0  Austin Rivers  Avery Bradley  Danilo Gallinari    DeAndre Jordan   \n",
       "1  Austin Rivers  Avery Bradley  Danilo Gallinari    DeAndre Jordan   \n",
       "2  Austin Rivers  Avery Bradley  Danilo Gallinari      Lou Williams   \n",
       "3  Austin Rivers  Avery Bradley  Danilo Gallinari  Montrezl Harrell   \n",
       "4  Austin Rivers  Avery Bradley    DeAndre Jordan      Lou Williams   \n",
       "\n",
       "                 p5  scoredpersec_perplayer  concededpersec_perplayer  \\\n",
       "0      Lou Williams                0.005970                  0.000000   \n",
       "1     Tobias Harris                0.006695                  0.005994   \n",
       "2  Montrezl Harrell                0.006579                  0.008684   \n",
       "3     Tobias Harris                0.000000                  0.000000   \n",
       "4     Tobias Harris                0.009091                  0.006061   \n",
       "\n",
       "   PlusMinuspersec  PlusMinuspersec_perplayer  \n",
       "0         0.029851                   0.005970  \n",
       "1         0.003510                   0.000702  \n",
       "2        -0.010526                  -0.002105  \n",
       "3         0.000000                   0.000000  \n",
       "4         0.015152                   0.003030  "
      ]
     },
     "execution_count": 132,
     "metadata": {},
     "output_type": "execute_result"
    }
   ],
   "source": [
    "df.head()"
   ]
  },
  {
   "cell_type": "markdown",
   "metadata": {},
   "source": [
    "Split and calculate per play on avg contribution in each lineup"
   ]
  },
  {
   "cell_type": "code",
   "execution_count": 131,
   "metadata": {},
   "outputs": [],
   "source": [
    "df[['p1','p2','p3','p4','p5']] = df['Lineup'].str.split(', ',expand=True)\n",
    "df['PlusMinuspersec']  = df['PlusMinus'] / df['play_length']\n",
    "df['PlusMinuspersec_perplayer']= df['PlusMinuspersec'] /5.0"
   ]
  },
  {
   "cell_type": "code",
   "execution_count": 134,
   "metadata": {},
   "outputs": [],
   "source": [
    "p1 = df.groupby('p1').agg({'PlusMinuspersec_perplayer':'mean'})\n",
    "p2 = df.groupby('p2').agg({'PlusMinuspersec_perplayer':'mean'})\n",
    "p3 = df.groupby('p3').agg({'PlusMinuspersec_perplayer':'mean'})\n",
    "p4 = df.groupby('p4').agg({'PlusMinuspersec_perplayer':'mean'})\n",
    "p5 = df.groupby('p5').agg({'PlusMinuspersec_perplayer':'mean'})\n",
    "playa_df= pd.concat([p1, p2, p3, p4, p5], ignore_index=False)\n",
    "playa_df=playa_df.reset_index()\n",
    "playa_df.columns=['Playa','PlusMinuspersec_perplayer']\n",
    "playa = playa_df.groupby('Playa').agg({'PlusMinuspersec_perplayer':'mean'}).sort_values(by='PlusMinuspersec_perplayer', ascending = False)"
   ]
  },
  {
   "cell_type": "markdown",
   "metadata": {},
   "source": [
    "# train for individual playa"
   ]
  },
  {
   "cell_type": "code",
   "execution_count": 166,
   "metadata": {
    "scrolled": false
   },
   "outputs": [
    {
     "data": {
      "text/html": [
       "<div>\n",
       "<style scoped>\n",
       "    .dataframe tbody tr th:only-of-type {\n",
       "        vertical-align: middle;\n",
       "    }\n",
       "\n",
       "    .dataframe tbody tr th {\n",
       "        vertical-align: top;\n",
       "    }\n",
       "\n",
       "    .dataframe thead th {\n",
       "        text-align: right;\n",
       "    }\n",
       "</style>\n",
       "<table border=\"1\" class=\"dataframe\">\n",
       "  <thead>\n",
       "    <tr style=\"text-align: right;\">\n",
       "      <th></th>\n",
       "      <th>PlusMinuspersec_perplayer</th>\n",
       "    </tr>\n",
       "    <tr>\n",
       "      <th>Playa</th>\n",
       "      <th></th>\n",
       "    </tr>\n",
       "  </thead>\n",
       "  <tbody>\n",
       "    <tr>\n",
       "      <th>Isaiah Whitehead</th>\n",
       "      <td>-0.008675</td>\n",
       "    </tr>\n",
       "    <tr>\n",
       "      <th>Bam Adebayo</th>\n",
       "      <td>-0.009115</td>\n",
       "    </tr>\n",
       "    <tr>\n",
       "      <th>Tyler Lydon</th>\n",
       "      <td>-0.009231</td>\n",
       "    </tr>\n",
       "    <tr>\n",
       "      <th>Edmond Sumner</th>\n",
       "      <td>-0.009231</td>\n",
       "    </tr>\n",
       "    <tr>\n",
       "      <th>Damyean Dotson</th>\n",
       "      <td>-0.009325</td>\n",
       "    </tr>\n",
       "    <tr>\n",
       "      <th>D.J. Wilson</th>\n",
       "      <td>-0.009436</td>\n",
       "    </tr>\n",
       "    <tr>\n",
       "      <th>Larry Nance Jr.</th>\n",
       "      <td>-0.009611</td>\n",
       "    </tr>\n",
       "    <tr>\n",
       "      <th>Alex Poythress</th>\n",
       "      <td>-0.009975</td>\n",
       "    </tr>\n",
       "    <tr>\n",
       "      <th>Kristaps Porzingis</th>\n",
       "      <td>-0.010170</td>\n",
       "    </tr>\n",
       "    <tr>\n",
       "      <th>Mirza Teletovic</th>\n",
       "      <td>-0.010660</td>\n",
       "    </tr>\n",
       "    <tr>\n",
       "      <th>C.J. Williams</th>\n",
       "      <td>-0.010761</td>\n",
       "    </tr>\n",
       "    <tr>\n",
       "      <th>David Nwaba</th>\n",
       "      <td>-0.010880</td>\n",
       "    </tr>\n",
       "    <tr>\n",
       "      <th>Rashad Vaughn</th>\n",
       "      <td>-0.011237</td>\n",
       "    </tr>\n",
       "    <tr>\n",
       "      <th>Josh Richardson</th>\n",
       "      <td>-0.012241</td>\n",
       "    </tr>\n",
       "    <tr>\n",
       "      <th>Zach LaVine</th>\n",
       "      <td>-0.012419</td>\n",
       "    </tr>\n",
       "    <tr>\n",
       "      <th>Wesley Matthews</th>\n",
       "      <td>-0.012676</td>\n",
       "    </tr>\n",
       "    <tr>\n",
       "      <th>Ben Moore</th>\n",
       "      <td>-0.013237</td>\n",
       "    </tr>\n",
       "    <tr>\n",
       "      <th>Brice Johnson</th>\n",
       "      <td>-0.013496</td>\n",
       "    </tr>\n",
       "    <tr>\n",
       "      <th>Blake Griffin</th>\n",
       "      <td>-0.015480</td>\n",
       "    </tr>\n",
       "    <tr>\n",
       "      <th>Dion Waiters</th>\n",
       "      <td>-0.020665</td>\n",
       "    </tr>\n",
       "    <tr>\n",
       "      <th>Kadeem Allen</th>\n",
       "      <td>-0.024334</td>\n",
       "    </tr>\n",
       "    <tr>\n",
       "      <th>Jeff Withey</th>\n",
       "      <td>-0.024875</td>\n",
       "    </tr>\n",
       "    <tr>\n",
       "      <th>Juancho Hernangomez</th>\n",
       "      <td>-0.028282</td>\n",
       "    </tr>\n",
       "    <tr>\n",
       "      <th>Boban Marjanovic</th>\n",
       "      <td>-0.050634</td>\n",
       "    </tr>\n",
       "    <tr>\n",
       "      <th>Hassan Whiteside</th>\n",
       "      <td>-0.051123</td>\n",
       "    </tr>\n",
       "  </tbody>\n",
       "</table>\n",
       "</div>"
      ],
      "text/plain": [
       "                     PlusMinuspersec_perplayer\n",
       "Playa                                         \n",
       "Isaiah Whitehead                     -0.008675\n",
       "Bam Adebayo                          -0.009115\n",
       "Tyler Lydon                          -0.009231\n",
       "Edmond Sumner                        -0.009231\n",
       "Damyean Dotson                       -0.009325\n",
       "D.J. Wilson                          -0.009436\n",
       "Larry Nance Jr.                      -0.009611\n",
       "Alex Poythress                       -0.009975\n",
       "Kristaps Porzingis                   -0.010170\n",
       "Mirza Teletovic                      -0.010660\n",
       "C.J. Williams                        -0.010761\n",
       "David Nwaba                          -0.010880\n",
       "Rashad Vaughn                        -0.011237\n",
       "Josh Richardson                      -0.012241\n",
       "Zach LaVine                          -0.012419\n",
       "Wesley Matthews                      -0.012676\n",
       "Ben Moore                            -0.013237\n",
       "Brice Johnson                        -0.013496\n",
       "Blake Griffin                        -0.015480\n",
       "Dion Waiters                         -0.020665\n",
       "Kadeem Allen                         -0.024334\n",
       "Jeff Withey                          -0.024875\n",
       "Juancho Hernangomez                  -0.028282\n",
       "Boban Marjanovic                     -0.050634\n",
       "Hassan Whiteside                     -0.051123"
      ]
     },
     "execution_count": 166,
     "metadata": {},
     "output_type": "execute_result"
    }
   ],
   "source": [
    "playa.tail(25)"
   ]
  },
  {
   "cell_type": "markdown",
   "metadata": {},
   "source": [
    "# TEST for individual player"
   ]
  },
  {
   "cell_type": "code",
   "execution_count": 140,
   "metadata": {},
   "outputs": [
    {
     "data": {
      "text/html": [
       "<div>\n",
       "<style scoped>\n",
       "    .dataframe tbody tr th:only-of-type {\n",
       "        vertical-align: middle;\n",
       "    }\n",
       "\n",
       "    .dataframe tbody tr th {\n",
       "        vertical-align: top;\n",
       "    }\n",
       "\n",
       "    .dataframe thead th {\n",
       "        text-align: right;\n",
       "    }\n",
       "</style>\n",
       "<table border=\"1\" class=\"dataframe\">\n",
       "  <thead>\n",
       "    <tr style=\"text-align: right;\">\n",
       "      <th></th>\n",
       "      <th>Lineup</th>\n",
       "      <th>play_length</th>\n",
       "      <th>game_id</th>\n",
       "      <th>Team</th>\n",
       "      <th>p1</th>\n",
       "      <th>p2</th>\n",
       "      <th>p3</th>\n",
       "      <th>p4</th>\n",
       "      <th>p5</th>\n",
       "    </tr>\n",
       "  </thead>\n",
       "  <tbody>\n",
       "    <tr>\n",
       "      <th>0</th>\n",
       "      <td>Austin Rivers, Blake Griffin, DeAndre Jordan, ...</td>\n",
       "      <td>0</td>\n",
       "      <td>=\"0021700245\"</td>\n",
       "      <td>LAC</td>\n",
       "      <td>Austin Rivers</td>\n",
       "      <td>Blake Griffin</td>\n",
       "      <td>DeAndre Jordan</td>\n",
       "      <td>Patrick Beverley</td>\n",
       "      <td>Wesley Johnson</td>\n",
       "    </tr>\n",
       "    <tr>\n",
       "      <th>1</th>\n",
       "      <td>Austin Rivers, Blake Griffin, DeAndre Jordan, ...</td>\n",
       "      <td>0</td>\n",
       "      <td>=\"0021700245\"</td>\n",
       "      <td>LAC</td>\n",
       "      <td>Austin Rivers</td>\n",
       "      <td>Blake Griffin</td>\n",
       "      <td>DeAndre Jordan</td>\n",
       "      <td>Patrick Beverley</td>\n",
       "      <td>Wesley Johnson</td>\n",
       "    </tr>\n",
       "    <tr>\n",
       "      <th>2</th>\n",
       "      <td>Austin Rivers, Blake Griffin, DeAndre Jordan, ...</td>\n",
       "      <td>22</td>\n",
       "      <td>=\"0021700245\"</td>\n",
       "      <td>LAC</td>\n",
       "      <td>Austin Rivers</td>\n",
       "      <td>Blake Griffin</td>\n",
       "      <td>DeAndre Jordan</td>\n",
       "      <td>Patrick Beverley</td>\n",
       "      <td>Wesley Johnson</td>\n",
       "    </tr>\n",
       "    <tr>\n",
       "      <th>3</th>\n",
       "      <td>Austin Rivers, Blake Griffin, DeAndre Jordan, ...</td>\n",
       "      <td>22</td>\n",
       "      <td>=\"0021700245\"</td>\n",
       "      <td>LAC</td>\n",
       "      <td>Austin Rivers</td>\n",
       "      <td>Blake Griffin</td>\n",
       "      <td>DeAndre Jordan</td>\n",
       "      <td>Patrick Beverley</td>\n",
       "      <td>Wesley Johnson</td>\n",
       "    </tr>\n",
       "    <tr>\n",
       "      <th>4</th>\n",
       "      <td>Austin Rivers, Blake Griffin, DeAndre Jordan, ...</td>\n",
       "      <td>14</td>\n",
       "      <td>=\"0021700245\"</td>\n",
       "      <td>LAC</td>\n",
       "      <td>Austin Rivers</td>\n",
       "      <td>Blake Griffin</td>\n",
       "      <td>DeAndre Jordan</td>\n",
       "      <td>Patrick Beverley</td>\n",
       "      <td>Wesley Johnson</td>\n",
       "    </tr>\n",
       "  </tbody>\n",
       "</table>\n",
       "</div>"
      ],
      "text/plain": [
       "                                              Lineup  play_length  \\\n",
       "0  Austin Rivers, Blake Griffin, DeAndre Jordan, ...            0   \n",
       "1  Austin Rivers, Blake Griffin, DeAndre Jordan, ...            0   \n",
       "2  Austin Rivers, Blake Griffin, DeAndre Jordan, ...           22   \n",
       "3  Austin Rivers, Blake Griffin, DeAndre Jordan, ...           22   \n",
       "4  Austin Rivers, Blake Griffin, DeAndre Jordan, ...           14   \n",
       "\n",
       "         game_id Team             p1             p2              p3  \\\n",
       "0  =\"0021700245\"  LAC  Austin Rivers  Blake Griffin  DeAndre Jordan   \n",
       "1  =\"0021700245\"  LAC  Austin Rivers  Blake Griffin  DeAndre Jordan   \n",
       "2  =\"0021700245\"  LAC  Austin Rivers  Blake Griffin  DeAndre Jordan   \n",
       "3  =\"0021700245\"  LAC  Austin Rivers  Blake Griffin  DeAndre Jordan   \n",
       "4  =\"0021700245\"  LAC  Austin Rivers  Blake Griffin  DeAndre Jordan   \n",
       "\n",
       "                 p4              p5  \n",
       "0  Patrick Beverley  Wesley Johnson  \n",
       "1  Patrick Beverley  Wesley Johnson  \n",
       "2  Patrick Beverley  Wesley Johnson  \n",
       "3  Patrick Beverley  Wesley Johnson  \n",
       "4  Patrick Beverley  Wesley Johnson  "
      ]
     },
     "execution_count": 140,
     "metadata": {},
     "output_type": "execute_result"
    }
   ],
   "source": [
    "FinalDatatest.head()"
   ]
  },
  {
   "cell_type": "code",
   "execution_count": 139,
   "metadata": {},
   "outputs": [],
   "source": [
    "FinalDatatest[['p1','p2','p3','p4','p5']] = FinalDatatest['Lineup'].str.split(', ',expand=True)"
   ]
  },
  {
   "cell_type": "markdown",
   "metadata": {},
   "source": [
    "# for the 119 games in test"
   ]
  },
  {
   "cell_type": "code",
   "execution_count": 158,
   "metadata": {},
   "outputs": [
    {
     "data": {
      "text/html": [
       "<div>\n",
       "<style scoped>\n",
       "    .dataframe tbody tr th:only-of-type {\n",
       "        vertical-align: middle;\n",
       "    }\n",
       "\n",
       "    .dataframe tbody tr th {\n",
       "        vertical-align: top;\n",
       "    }\n",
       "\n",
       "    .dataframe thead th {\n",
       "        text-align: right;\n",
       "    }\n",
       "</style>\n",
       "<table border=\"1\" class=\"dataframe\">\n",
       "  <thead>\n",
       "    <tr style=\"text-align: right;\">\n",
       "      <th></th>\n",
       "      <th>game_id</th>\n",
       "      <th>Team</th>\n",
       "      <th>score_calculated</th>\n",
       "      <th>conceded_calculated</th>\n",
       "    </tr>\n",
       "  </thead>\n",
       "  <tbody>\n",
       "    <tr>\n",
       "      <th>0</th>\n",
       "      <td>21700095</td>\n",
       "      <td>HOU</td>\n",
       "      <td>113.053018</td>\n",
       "      <td>105.644645</td>\n",
       "    </tr>\n",
       "    <tr>\n",
       "      <th>1</th>\n",
       "      <td>21700095</td>\n",
       "      <td>PHI</td>\n",
       "      <td>106.294480</td>\n",
       "      <td>106.244342</td>\n",
       "    </tr>\n",
       "    <tr>\n",
       "      <th>2</th>\n",
       "      <td>21700152</td>\n",
       "      <td>CHA</td>\n",
       "      <td>111.637534</td>\n",
       "      <td>116.602312</td>\n",
       "    </tr>\n",
       "    <tr>\n",
       "      <th>3</th>\n",
       "      <td>21700152</td>\n",
       "      <td>NYK</td>\n",
       "      <td>107.833701</td>\n",
       "      <td>94.465786</td>\n",
       "    </tr>\n",
       "    <tr>\n",
       "      <th>4</th>\n",
       "      <td>21700164</td>\n",
       "      <td>LAL</td>\n",
       "      <td>102.211105</td>\n",
       "      <td>99.833124</td>\n",
       "    </tr>\n",
       "  </tbody>\n",
       "</table>\n",
       "</div>"
      ],
      "text/plain": [
       "    game_id Team  score_calculated  conceded_calculated\n",
       "0  21700095  HOU        113.053018           105.644645\n",
       "1  21700095  PHI        106.294480           106.244342\n",
       "2  21700152  CHA        111.637534           116.602312\n",
       "3  21700152  NYK        107.833701            94.465786\n",
       "4  21700164  LAL        102.211105            99.833124"
      ]
     },
     "execution_count": 158,
     "metadata": {},
     "output_type": "execute_result"
    }
   ],
   "source": [
    "insight1.head()"
   ]
  },
  {
   "cell_type": "markdown",
   "metadata": {},
   "source": [
    "Assuming gameID progress chronologically, the graph below shows the scores calculated and conceded over gameID."
   ]
  },
  {
   "cell_type": "code",
   "execution_count": 163,
   "metadata": {},
   "outputs": [
    {
     "data": {
      "text/plain": [
       "<matplotlib.axes._subplots.AxesSubplot at 0x1675576c5f8>"
      ]
     },
     "execution_count": 163,
     "metadata": {},
     "output_type": "execute_result"
    },
    {
     "data": {
      "image/png": "[encoded data removed]",
      "text/plain": [
       "<Figure size 432x288 with 1 Axes>"
      ]
     },
     "metadata": {
      "needs_background": "light"
     },
     "output_type": "display_data"
    }
   ],
   "source": [
    "insight1.plot(x=\"game_id\", y=[\"score_calculated\", \"conceded_calculated\"])"
   ]
  },
  {
   "cell_type": "code",
   "execution_count": 142,
   "metadata": {
    "scrolled": true
   },
   "outputs": [
    {
     "data": {
      "text/html": [
       "<div>\n",
       "<style scoped>\n",
       "    .dataframe tbody tr th:only-of-type {\n",
       "        vertical-align: middle;\n",
       "    }\n",
       "\n",
       "    .dataframe tbody tr th {\n",
       "        vertical-align: top;\n",
       "    }\n",
       "\n",
       "    .dataframe thead th {\n",
       "        text-align: right;\n",
       "    }\n",
       "</style>\n",
       "<table border=\"1\" class=\"dataframe\">\n",
       "  <thead>\n",
       "    <tr style=\"text-align: right;\">\n",
       "      <th></th>\n",
       "      <th>game_id</th>\n",
       "      <th>Team</th>\n",
       "      <th>score_calculated</th>\n",
       "      <th>conceded_calculated</th>\n",
       "    </tr>\n",
       "  </thead>\n",
       "  <tbody>\n",
       "    <tr>\n",
       "      <th>203</th>\n",
       "      <td>=\"0021701152\"</td>\n",
       "      <td>MIL</td>\n",
       "      <td>128.356053</td>\n",
       "      <td>121.958616</td>\n",
       "    </tr>\n",
       "  </tbody>\n",
       "</table>\n",
       "</div>"
      ],
      "text/plain": [
       "           game_id Team  score_calculated  conceded_calculated\n",
       "203  =\"0021701152\"  MIL        128.356053           121.958616"
      ]
     },
     "execution_count": 142,
     "metadata": {},
     "output_type": "execute_result"
    }
   ],
   "source": [
    "#max scored game each team\n",
    "insight1.loc[insight1.score_calculated == max(insight1.score_calculated)]"
   ]
  },
  {
   "cell_type": "code",
   "execution_count": 143,
   "metadata": {},
   "outputs": [
    {
     "data": {
      "text/html": [
       "<div>\n",
       "<style scoped>\n",
       "    .dataframe tbody tr th:only-of-type {\n",
       "        vertical-align: middle;\n",
       "    }\n",
       "\n",
       "    .dataframe tbody tr th {\n",
       "        vertical-align: top;\n",
       "    }\n",
       "\n",
       "    .dataframe thead th {\n",
       "        text-align: right;\n",
       "    }\n",
       "</style>\n",
       "<table border=\"1\" class=\"dataframe\">\n",
       "  <thead>\n",
       "    <tr style=\"text-align: right;\">\n",
       "      <th></th>\n",
       "      <th>game_id</th>\n",
       "      <th>Team</th>\n",
       "      <th>score_calculated</th>\n",
       "      <th>conceded_calculated</th>\n",
       "    </tr>\n",
       "  </thead>\n",
       "  <tbody>\n",
       "    <tr>\n",
       "      <th>205</th>\n",
       "      <td>=\"0021701155\"</td>\n",
       "      <td>SAC</td>\n",
       "      <td>76.50663</td>\n",
       "      <td>88.082948</td>\n",
       "    </tr>\n",
       "  </tbody>\n",
       "</table>\n",
       "</div>"
      ],
      "text/plain": [
       "           game_id Team  score_calculated  conceded_calculated\n",
       "205  =\"0021701155\"  SAC          76.50663            88.082948"
      ]
     },
     "execution_count": 143,
     "metadata": {},
     "output_type": "execute_result"
    }
   ],
   "source": [
    "#min scored game each team\n",
    "insight1.loc[insight1.score_calculated == min(insight1.score_calculated)]"
   ]
  },
  {
   "cell_type": "code",
   "execution_count": 145,
   "metadata": {},
   "outputs": [
    {
     "data": {
      "text/html": [
       "<div>\n",
       "<style scoped>\n",
       "    .dataframe tbody tr th:only-of-type {\n",
       "        vertical-align: middle;\n",
       "    }\n",
       "\n",
       "    .dataframe tbody tr th {\n",
       "        vertical-align: top;\n",
       "    }\n",
       "\n",
       "    .dataframe thead th {\n",
       "        text-align: right;\n",
       "    }\n",
       "</style>\n",
       "<table border=\"1\" class=\"dataframe\">\n",
       "  <thead>\n",
       "    <tr style=\"text-align: right;\">\n",
       "      <th></th>\n",
       "      <th>game_id</th>\n",
       "      <th>Team</th>\n",
       "      <th>score_calculated</th>\n",
       "      <th>conceded_calculated</th>\n",
       "    </tr>\n",
       "  </thead>\n",
       "  <tbody>\n",
       "    <tr>\n",
       "      <th>202</th>\n",
       "      <td>=\"0021701152\"</td>\n",
       "      <td>DEN</td>\n",
       "      <td>127.57837</td>\n",
       "      <td>133.289801</td>\n",
       "    </tr>\n",
       "  </tbody>\n",
       "</table>\n",
       "</div>"
      ],
      "text/plain": [
       "           game_id Team  score_calculated  conceded_calculated\n",
       "202  =\"0021701152\"  DEN         127.57837           133.289801"
      ]
     },
     "execution_count": 145,
     "metadata": {},
     "output_type": "execute_result"
    }
   ],
   "source": [
    "#max conceded \n",
    "insight1.loc[insight1.conceded_calculated == max(insight1.conceded_calculated)]"
   ]
  },
  {
   "cell_type": "code",
   "execution_count": 146,
   "metadata": {},
   "outputs": [
    {
     "data": {
      "text/html": [
       "<div>\n",
       "<style scoped>\n",
       "    .dataframe tbody tr th:only-of-type {\n",
       "        vertical-align: middle;\n",
       "    }\n",
       "\n",
       "    .dataframe tbody tr th {\n",
       "        vertical-align: top;\n",
       "    }\n",
       "\n",
       "    .dataframe thead th {\n",
       "        text-align: right;\n",
       "    }\n",
       "</style>\n",
       "<table border=\"1\" class=\"dataframe\">\n",
       "  <thead>\n",
       "    <tr style=\"text-align: right;\">\n",
       "      <th></th>\n",
       "      <th>game_id</th>\n",
       "      <th>Team</th>\n",
       "      <th>score_calculated</th>\n",
       "      <th>conceded_calculated</th>\n",
       "    </tr>\n",
       "  </thead>\n",
       "  <tbody>\n",
       "    <tr>\n",
       "      <th>184</th>\n",
       "      <td>=\"0021701056\"</td>\n",
       "      <td>GSW</td>\n",
       "      <td>96.362009</td>\n",
       "      <td>87.388087</td>\n",
       "    </tr>\n",
       "  </tbody>\n",
       "</table>\n",
       "</div>"
      ],
      "text/plain": [
       "           game_id Team  score_calculated  conceded_calculated\n",
       "184  =\"0021701056\"  GSW         96.362009            87.388087"
      ]
     },
     "execution_count": 146,
     "metadata": {},
     "output_type": "execute_result"
    }
   ],
   "source": [
    "#min conceded\n",
    "insight1.loc[insight1.conceded_calculated == min(insight1.conceded_calculated)]"
   ]
  },
  {
   "cell_type": "code",
   "execution_count": 164,
   "metadata": {},
   "outputs": [
    {
     "data": {
      "text/html": [
       "<div>\n",
       "<style scoped>\n",
       "    .dataframe tbody tr th:only-of-type {\n",
       "        vertical-align: middle;\n",
       "    }\n",
       "\n",
       "    .dataframe tbody tr th {\n",
       "        vertical-align: top;\n",
       "    }\n",
       "\n",
       "    .dataframe thead th {\n",
       "        text-align: right;\n",
       "    }\n",
       "</style>\n",
       "<table border=\"1\" class=\"dataframe\">\n",
       "  <thead>\n",
       "    <tr style=\"text-align: right;\">\n",
       "      <th></th>\n",
       "      <th>score_calculated</th>\n",
       "    </tr>\n",
       "    <tr>\n",
       "      <th>Team</th>\n",
       "      <th></th>\n",
       "    </tr>\n",
       "  </thead>\n",
       "  <tbody>\n",
       "    <tr>\n",
       "      <th>HOU</th>\n",
       "      <td>115.325283</td>\n",
       "    </tr>\n",
       "  </tbody>\n",
       "</table>\n",
       "</div>"
      ],
      "text/plain": [
       "      score_calculated\n",
       "Team                  \n",
       "HOU         115.325283"
      ]
     },
     "execution_count": 164,
     "metadata": {},
     "output_type": "execute_result"
    }
   ],
   "source": [
    "#highest avg team score: \n",
    "insight1.groupby('Team').agg({'score_calculated':'mean'}).sort_values('score_calculated', ascending = False).head(1)"
   ]
  },
  {
   "cell_type": "code",
   "execution_count": 165,
   "metadata": {},
   "outputs": [
    {
     "data": {
      "text/html": [
       "<div>\n",
       "<style scoped>\n",
       "    .dataframe tbody tr th:only-of-type {\n",
       "        vertical-align: middle;\n",
       "    }\n",
       "\n",
       "    .dataframe tbody tr th {\n",
       "        vertical-align: top;\n",
       "    }\n",
       "\n",
       "    .dataframe thead th {\n",
       "        text-align: right;\n",
       "    }\n",
       "</style>\n",
       "<table border=\"1\" class=\"dataframe\">\n",
       "  <thead>\n",
       "    <tr style=\"text-align: right;\">\n",
       "      <th></th>\n",
       "      <th>score_calculated</th>\n",
       "    </tr>\n",
       "    <tr>\n",
       "      <th>Team</th>\n",
       "      <th></th>\n",
       "    </tr>\n",
       "  </thead>\n",
       "  <tbody>\n",
       "    <tr>\n",
       "      <th>SAC</th>\n",
       "      <td>98.437139</td>\n",
       "    </tr>\n",
       "  </tbody>\n",
       "</table>\n",
       "</div>"
      ],
      "text/plain": [
       "      score_calculated\n",
       "Team                  \n",
       "SAC          98.437139"
      ]
     },
     "execution_count": 165,
     "metadata": {},
     "output_type": "execute_result"
    }
   ],
   "source": [
    "#lowest avg team score:\n",
    "insight1.groupby('Team').agg({'score_calculated':'mean'}).sort_values('score_calculated', ascending = False).tail(1)"
   ]
  },
  {
   "cell_type": "code",
   "execution_count": 154,
   "metadata": {},
   "outputs": [
    {
     "data": {
      "text/html": [
       "<div>\n",
       "<style scoped>\n",
       "    .dataframe tbody tr th:only-of-type {\n",
       "        vertical-align: middle;\n",
       "    }\n",
       "\n",
       "    .dataframe tbody tr th {\n",
       "        vertical-align: top;\n",
       "    }\n",
       "\n",
       "    .dataframe thead th {\n",
       "        text-align: right;\n",
       "    }\n",
       "</style>\n",
       "<table border=\"1\" class=\"dataframe\">\n",
       "  <thead>\n",
       "    <tr style=\"text-align: right;\">\n",
       "      <th></th>\n",
       "      <th>Team</th>\n",
       "    </tr>\n",
       "    <tr>\n",
       "      <th>Team</th>\n",
       "      <th></th>\n",
       "    </tr>\n",
       "  </thead>\n",
       "  <tbody>\n",
       "    <tr>\n",
       "      <th>PHI</th>\n",
       "      <td>14</td>\n",
       "    </tr>\n",
       "  </tbody>\n",
       "</table>\n",
       "</div>"
      ],
      "text/plain": [
       "      Team\n",
       "Team      \n",
       "PHI     14"
      ]
     },
     "execution_count": 154,
     "metadata": {},
     "output_type": "execute_result"
    }
   ],
   "source": [
    "#team with most games\n",
    "insight1.groupby('Team').agg({'Team':'count'}).sort_values('Team', ascending = False).head(1)"
   ]
  },
  {
   "cell_type": "code",
   "execution_count": 155,
   "metadata": {},
   "outputs": [
    {
     "data": {
      "text/html": [
       "<div>\n",
       "<style scoped>\n",
       "    .dataframe tbody tr th:only-of-type {\n",
       "        vertical-align: middle;\n",
       "    }\n",
       "\n",
       "    .dataframe tbody tr th {\n",
       "        vertical-align: top;\n",
       "    }\n",
       "\n",
       "    .dataframe thead th {\n",
       "        text-align: right;\n",
       "    }\n",
       "</style>\n",
       "<table border=\"1\" class=\"dataframe\">\n",
       "  <thead>\n",
       "    <tr style=\"text-align: right;\">\n",
       "      <th></th>\n",
       "      <th>Team</th>\n",
       "    </tr>\n",
       "    <tr>\n",
       "      <th>Team</th>\n",
       "      <th></th>\n",
       "    </tr>\n",
       "  </thead>\n",
       "  <tbody>\n",
       "    <tr>\n",
       "      <th>MEM</th>\n",
       "      <td>4</td>\n",
       "    </tr>\n",
       "  </tbody>\n",
       "</table>\n",
       "</div>"
      ],
      "text/plain": [
       "      Team\n",
       "Team      \n",
       "MEM      4"
      ]
     },
     "execution_count": 155,
     "metadata": {},
     "output_type": "execute_result"
    }
   ],
   "source": [
    "#team with least games in train\n",
    "insight1.groupby('Team').agg({'Team':'count'}).sort_values('Team', ascending = False).tail(1)"
   ]
  }
 ],
 "metadata": {
  "kernelspec": {
   "display_name": "Python 3",
   "language": "python",
   "name": "python3"
  },
  "language_info": {
   "codemirror_mode": {
    "name": "ipython",
    "version": 3
   },
   "file_extension": ".py",
   "mimetype": "text/x-python",
   "name": "python",
   "nbconvert_exporter": "python",
   "pygments_lexer": "ipython3",
   "version": "3.7.0"
  }
 },
 "nbformat": 4,
 "nbformat_minor": 2
}
